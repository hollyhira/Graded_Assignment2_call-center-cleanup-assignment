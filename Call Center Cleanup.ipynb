{
 "cells": [
  {
   "cell_type": "markdown",
   "id": "458bdb75",
   "metadata": {},
   "source": [
    "# Call Center Cleanup\n",
    "\n",
    "For this assignment, we will be working with call center data. You can start working on the assignment after the first lesson on Exploratory Data Analysis. Make sure to read the whole assignment before starting anything! As you code along in the Jupyter notebook, you are asked to make note of the results of your analysis. Do so by clicking on the results box and adding your notes beside each question.\n",
    "\n",
    "## Business Issue and Understanding\n",
    "\n",
    "You are working for a company that has two call centers: the North Call Center and the South Call Center. The company is looking to possibly hire five additional reps to enhance customer experience. Your task is to explore how efficient the current reps are in each branch to determine which branch would benefit from additional assistance.\n",
    "\n",
    "### How the Call Center Works\n",
    "\n",
    "Call center representatives are assigned queues. When calls are assigned to a queue, the call is assigned to the next person in line in the queue. After a call is assigned to a representative, the amount of time between assignment and the call starting is divided into busy minutes and not ready minutes. If the call is incoming and a customer is waiting on the phone for a rep, the time is split into three categories: busy minutes, not ready minutes, and incoming call wait time. Once the rep has the customer on the phone, there might be during call wait time, where the call is put on hold while the rep gets an answer for the customer.\n",
    "\n",
    "### Notes about the Dataset\n",
    "\n",
    "If you haven't worked in a call center before, these notes might help you throughout your analysis.\n",
    "\n",
    "* The call purpose is tagged for each call.\n",
    "* The time of the call is tagged in 1 hour blocks starting at 9:00 AM and ending at 5:00 PM.\n",
    "* Calls are tagged as incoming or outgoing.\n",
    "* Reps are assigned to queues. When the reps are working, they take calls in the order of their queue.\n",
    "* A call that is dropped due to technical error or missed by the center because they have reached maximum capacity is a lost call.\n",
    "* An abandoned call is when the customer hangs up because they have been waiting for too long.\n",
    "* Busy Minutes: the amount of time after a call comes in or needs to go out where the assigned rep is not available because they are busy with other customers.\n",
    "* Not Ready Minutes: the amount of time after a call comes in or needs to go out where the assigned rep is not available because they are not ready (for example, getting water).\n",
    "* Incoming Wait Time - amount of time after assigned rep is available to take the call customer waits for representative to pick up a call. This is tracked in seconds.\n",
    "* During Call Wait Time - amount of time during call that customer has to wait for representative\n",
    "\n",
    "## Getting Started\n",
    "\n",
    "You have two CSVs at your disposal, `NorthCallCenter.csv` and `SouthCallCenter.csv`. Import the appropriate libraries and create two dataframes, one called `north_df` and one called `south_df`."
   ]
  },
  {
   "cell_type": "markdown",
   "id": "7242c26b",
   "metadata": {},
   "source": [
    "#### After cleaning data, how to save a cleaned csv:\n",
    "\n",
    "\n",
    "import pandas as pd \n",
    "\n",
    "df = pd.read_csv('Diseases.csv')\n",
    "\n",
    "df1 = df[df.DIABETES >1]\n",
    "\n",
    "df1.to_csv('diabetes-filtered.csv')\n",
    "\n",
    "#### Or you can chain filtering and exporting to file:\n",
    "\n",
    "\n",
    "import pandas as pd \n",
    "\n",
    "df = pd.read_csv('Diseases.csv')\n",
    "\n",
    "df[df.DIABETES >1].to_csv('diabetes-filtered.csv')\n"
   ]
  },
  {
   "cell_type": "code",
   "execution_count": 1,
   "id": "49aada97",
   "metadata": {},
   "outputs": [
    {
     "data": {
      "text/html": [
       "        <script type=\"text/javascript\">\n",
       "        window.PlotlyConfig = {MathJaxConfig: 'local'};\n",
       "        if (window.MathJax) {MathJax.Hub.Config({SVG: {font: \"STIX-Web\"}});}\n",
       "        if (typeof require !== 'undefined') {\n",
       "        require.undef(\"plotly\");\n",
       "        requirejs.config({\n",
       "            paths: {\n",
       "                'plotly': ['https://cdn.plot.ly/plotly-2.9.0.min']\n",
       "            }\n",
       "        });\n",
       "        require(['plotly'], function(Plotly) {\n",
       "            window._Plotly = Plotly;\n",
       "        });\n",
       "        }\n",
       "        </script>\n",
       "        "
      ]
     },
     "metadata": {},
     "output_type": "display_data"
    }
   ],
   "source": [
    "# Import the appropriate libraries\n",
    "import pandas as pd\n",
    "import numpy as np\n",
    "import matplotlib.mlab as mlab\n",
    "import matplotlib\n",
    "from nltk.metrics import edit_distance\n",
    "import missingno as msno\n",
    "import pandas_profiling as pp\n",
    "\n",
    "# Visualization Imports\n",
    "import matplotlib.pyplot as plt\n",
    "import seaborn as sns\n",
    "color = sns.color_palette()\n",
    "get_ipython().run_line_magic('matplotlib', 'inline')\n",
    "import plotly.offline as py\n",
    "py.init_notebook_mode(connected=True)\n",
    "import plotly.graph_objs as go\n",
    "import plotly.tools as tls\n",
    "import plotly.express as px\n",
    "import numpy as np\n",
    "\n",
    "\n",
    "from IPython.core.interactiveshell import InteractiveShell\n",
    "InteractiveShell.ast_node_interactivity = 'all'\n",
    "\n",
    "#Print multiple outputs from 1 cell\n"
   ]
  },
  {
   "cell_type": "code",
   "execution_count": 2,
   "id": "9e2e129b",
   "metadata": {},
   "outputs": [],
   "source": [
    "# Create two new dataframes\n",
    "#Set the first column as index\n",
    "\n",
    "north_df=pd.read_csv('NorthCallCenter.csv', index_col=[0])\n",
    "south_df=pd.read_csv('SouthCallCenter.csv', index_col=[0])\n"
   ]
  },
  {
   "cell_type": "code",
   "execution_count": 3,
   "id": "c457e776",
   "metadata": {},
   "outputs": [],
   "source": [
    "pd.set_option('display.max_columns', None)"
   ]
  },
  {
   "cell_type": "code",
   "execution_count": 4,
   "id": "6d247509",
   "metadata": {},
   "outputs": [
    {
     "data": {
      "text/html": [
       "<div>\n",
       "<style scoped>\n",
       "    .dataframe tbody tr th:only-of-type {\n",
       "        vertical-align: middle;\n",
       "    }\n",
       "\n",
       "    .dataframe tbody tr th {\n",
       "        vertical-align: top;\n",
       "    }\n",
       "\n",
       "    .dataframe thead th {\n",
       "        text-align: right;\n",
       "    }\n",
       "</style>\n",
       "<table border=\"1\" class=\"dataframe\">\n",
       "  <thead>\n",
       "    <tr style=\"text-align: right;\">\n",
       "      <th></th>\n",
       "      <th>Branch</th>\n",
       "      <th>Call Purpose</th>\n",
       "      <th>Time Block</th>\n",
       "      <th>Incoming or Outgoing</th>\n",
       "      <th>Queue</th>\n",
       "      <th>Rep ID</th>\n",
       "      <th>Sale</th>\n",
       "      <th>Lost Call</th>\n",
       "      <th>Abandoned</th>\n",
       "      <th>Busy Minutes</th>\n",
       "      <th>Not Ready Minutes</th>\n",
       "      <th>Incoming Wait Time</th>\n",
       "      <th>During Call Wait Time</th>\n",
       "      <th>Calls</th>\n",
       "    </tr>\n",
       "  </thead>\n",
       "  <tbody>\n",
       "    <tr>\n",
       "      <th>0</th>\n",
       "      <td>North</td>\n",
       "      <td>Complaint</td>\n",
       "      <td>9:00 AM</td>\n",
       "      <td>Incoming</td>\n",
       "      <td>B</td>\n",
       "      <td>Brent</td>\n",
       "      <td>NO</td>\n",
       "      <td>0</td>\n",
       "      <td>1</td>\n",
       "      <td>9</td>\n",
       "      <td>2</td>\n",
       "      <td>1.0</td>\n",
       "      <td>4</td>\n",
       "      <td>1</td>\n",
       "    </tr>\n",
       "    <tr>\n",
       "      <th>1</th>\n",
       "      <td>North</td>\n",
       "      <td>Sales Support</td>\n",
       "      <td>11:00 AM</td>\n",
       "      <td>Incoming</td>\n",
       "      <td>A</td>\n",
       "      <td>Cam</td>\n",
       "      <td>NO</td>\n",
       "      <td>0</td>\n",
       "      <td>0</td>\n",
       "      <td>11</td>\n",
       "      <td>1</td>\n",
       "      <td>1.0</td>\n",
       "      <td>3</td>\n",
       "      <td>1</td>\n",
       "    </tr>\n",
       "    <tr>\n",
       "      <th>2</th>\n",
       "      <td>North</td>\n",
       "      <td>Sales Support</td>\n",
       "      <td>11:00 AM</td>\n",
       "      <td>Incoming</td>\n",
       "      <td>B</td>\n",
       "      <td>Todd</td>\n",
       "      <td>NO</td>\n",
       "      <td>0</td>\n",
       "      <td>0</td>\n",
       "      <td>9</td>\n",
       "      <td>3</td>\n",
       "      <td>1.0</td>\n",
       "      <td>3</td>\n",
       "      <td>1</td>\n",
       "    </tr>\n",
       "    <tr>\n",
       "      <th>3</th>\n",
       "      <td>North</td>\n",
       "      <td>Sales Support</td>\n",
       "      <td>4:00 PM</td>\n",
       "      <td>Incoming</td>\n",
       "      <td>B</td>\n",
       "      <td>Brent</td>\n",
       "      <td>NO</td>\n",
       "      <td>0</td>\n",
       "      <td>0</td>\n",
       "      <td>11</td>\n",
       "      <td>2</td>\n",
       "      <td>1.0</td>\n",
       "      <td>4</td>\n",
       "      <td>1</td>\n",
       "    </tr>\n",
       "    <tr>\n",
       "      <th>4</th>\n",
       "      <td>North</td>\n",
       "      <td>Product Support</td>\n",
       "      <td>12:00 PM</td>\n",
       "      <td>Incoming</td>\n",
       "      <td>B</td>\n",
       "      <td>Brent</td>\n",
       "      <td>NO</td>\n",
       "      <td>0</td>\n",
       "      <td>0</td>\n",
       "      <td>8</td>\n",
       "      <td>2</td>\n",
       "      <td>1.0</td>\n",
       "      <td>4</td>\n",
       "      <td>1</td>\n",
       "    </tr>\n",
       "  </tbody>\n",
       "</table>\n",
       "</div>"
      ],
      "text/plain": [
       "  Branch     Call Purpose Time Block Incoming or Outgoing Queue Rep ID Sale  \\\n",
       "0  North        Complaint    9:00 AM             Incoming     B  Brent   NO   \n",
       "1  North    Sales Support   11:00 AM             Incoming     A    Cam   NO   \n",
       "2  North    Sales Support   11:00 AM             Incoming     B   Todd   NO   \n",
       "3  North    Sales Support    4:00 PM             Incoming     B  Brent   NO   \n",
       "4  North  Product Support   12:00 PM             Incoming     B  Brent   NO   \n",
       "\n",
       "   Lost Call  Abandoned  Busy Minutes  Not Ready Minutes  Incoming Wait Time  \\\n",
       "0          0          1             9                  2                 1.0   \n",
       "1          0          0            11                  1                 1.0   \n",
       "2          0          0             9                  3                 1.0   \n",
       "3          0          0            11                  2                 1.0   \n",
       "4          0          0             8                  2                 1.0   \n",
       "\n",
       "   During Call Wait Time  Calls  \n",
       "0                      4      1  \n",
       "1                      3      1  \n",
       "2                      3      1  \n",
       "3                      4      1  \n",
       "4                      4      1  "
      ]
     },
     "execution_count": 4,
     "metadata": {},
     "output_type": "execute_result"
    }
   ],
   "source": [
    "north_df.head()\n"
   ]
  },
  {
   "cell_type": "code",
   "execution_count": 5,
   "id": "eb01eb30",
   "metadata": {},
   "outputs": [
    {
     "data": {
      "text/html": [
       "<div>\n",
       "<style scoped>\n",
       "    .dataframe tbody tr th:only-of-type {\n",
       "        vertical-align: middle;\n",
       "    }\n",
       "\n",
       "    .dataframe tbody tr th {\n",
       "        vertical-align: top;\n",
       "    }\n",
       "\n",
       "    .dataframe thead th {\n",
       "        text-align: right;\n",
       "    }\n",
       "</style>\n",
       "<table border=\"1\" class=\"dataframe\">\n",
       "  <thead>\n",
       "    <tr style=\"text-align: right;\">\n",
       "      <th></th>\n",
       "      <th>Branch</th>\n",
       "      <th>Call Purpose</th>\n",
       "      <th>Time Block</th>\n",
       "      <th>Incoming or Outgoing</th>\n",
       "      <th>Queue</th>\n",
       "      <th>Rep ID</th>\n",
       "      <th>Sale</th>\n",
       "      <th>Lost Call</th>\n",
       "      <th>Abandoned</th>\n",
       "      <th>Busy Minutes</th>\n",
       "      <th>Not Ready Minutes</th>\n",
       "      <th>Incoming Wait Time</th>\n",
       "      <th>During Call Wait Time</th>\n",
       "      <th>Calls</th>\n",
       "    </tr>\n",
       "  </thead>\n",
       "  <tbody>\n",
       "    <tr>\n",
       "      <th>0</th>\n",
       "      <td>South</td>\n",
       "      <td>Sales Support</td>\n",
       "      <td>10:00 AM</td>\n",
       "      <td>Incoming</td>\n",
       "      <td>D</td>\n",
       "      <td>Kate</td>\n",
       "      <td>NO</td>\n",
       "      <td>0</td>\n",
       "      <td>0</td>\n",
       "      <td>9</td>\n",
       "      <td>1</td>\n",
       "      <td>1.0</td>\n",
       "      <td>2</td>\n",
       "      <td>1</td>\n",
       "    </tr>\n",
       "    <tr>\n",
       "      <th>1</th>\n",
       "      <td>South</td>\n",
       "      <td>Sales Support</td>\n",
       "      <td>10:00 AM</td>\n",
       "      <td>Incoming</td>\n",
       "      <td>C</td>\n",
       "      <td>Eric</td>\n",
       "      <td>NO</td>\n",
       "      <td>0</td>\n",
       "      <td>0</td>\n",
       "      <td>8</td>\n",
       "      <td>2</td>\n",
       "      <td>1.0</td>\n",
       "      <td>4</td>\n",
       "      <td>1</td>\n",
       "    </tr>\n",
       "    <tr>\n",
       "      <th>2</th>\n",
       "      <td>South</td>\n",
       "      <td>Sales Support</td>\n",
       "      <td>10:00 AM</td>\n",
       "      <td>Incoming</td>\n",
       "      <td>C</td>\n",
       "      <td>Susan</td>\n",
       "      <td>NO</td>\n",
       "      <td>0</td>\n",
       "      <td>0</td>\n",
       "      <td>10</td>\n",
       "      <td>2</td>\n",
       "      <td>1.0</td>\n",
       "      <td>4</td>\n",
       "      <td>1</td>\n",
       "    </tr>\n",
       "    <tr>\n",
       "      <th>3</th>\n",
       "      <td>South</td>\n",
       "      <td>Sales Support</td>\n",
       "      <td>10:00 AM</td>\n",
       "      <td>Incoming</td>\n",
       "      <td>C</td>\n",
       "      <td>Alice</td>\n",
       "      <td>NO</td>\n",
       "      <td>0</td>\n",
       "      <td>0</td>\n",
       "      <td>12</td>\n",
       "      <td>1</td>\n",
       "      <td>1.0</td>\n",
       "      <td>3</td>\n",
       "      <td>1</td>\n",
       "    </tr>\n",
       "    <tr>\n",
       "      <th>4</th>\n",
       "      <td>South</td>\n",
       "      <td>Sales Support</td>\n",
       "      <td>12:00 PM</td>\n",
       "      <td>Incoming</td>\n",
       "      <td>C</td>\n",
       "      <td>Sandy</td>\n",
       "      <td>NO</td>\n",
       "      <td>0</td>\n",
       "      <td>0</td>\n",
       "      <td>8</td>\n",
       "      <td>3</td>\n",
       "      <td>1.0</td>\n",
       "      <td>3</td>\n",
       "      <td>1</td>\n",
       "    </tr>\n",
       "  </tbody>\n",
       "</table>\n",
       "</div>"
      ],
      "text/plain": [
       "  Branch   Call Purpose Time Block Incoming or Outgoing Queue Rep ID Sale  \\\n",
       "0  South  Sales Support   10:00 AM             Incoming     D   Kate   NO   \n",
       "1  South  Sales Support   10:00 AM             Incoming     C   Eric   NO   \n",
       "2  South  Sales Support   10:00 AM             Incoming     C  Susan   NO   \n",
       "3  South  Sales Support   10:00 AM             Incoming     C  Alice   NO   \n",
       "4  South  Sales Support   12:00 PM             Incoming     C  Sandy   NO   \n",
       "\n",
       "   Lost Call  Abandoned  Busy Minutes  Not Ready Minutes  Incoming Wait Time  \\\n",
       "0          0          0             9                  1                 1.0   \n",
       "1          0          0             8                  2                 1.0   \n",
       "2          0          0            10                  2                 1.0   \n",
       "3          0          0            12                  1                 1.0   \n",
       "4          0          0             8                  3                 1.0   \n",
       "\n",
       "   During Call Wait Time  Calls  \n",
       "0                      2      1  \n",
       "1                      4      1  \n",
       "2                      4      1  \n",
       "3                      3      1  \n",
       "4                      3      1  "
      ]
     },
     "execution_count": 5,
     "metadata": {},
     "output_type": "execute_result"
    }
   ],
   "source": [
    "south_df.head()"
   ]
  },
  {
   "cell_type": "code",
   "execution_count": 6,
   "id": "abe6d955",
   "metadata": {},
   "outputs": [
    {
     "data": {
      "text/plain": [
       "(245, 14)"
      ]
     },
     "execution_count": 6,
     "metadata": {},
     "output_type": "execute_result"
    }
   ],
   "source": [
    "north_df.shape"
   ]
  },
  {
   "cell_type": "code",
   "execution_count": 7,
   "id": "b9b7b89a",
   "metadata": {},
   "outputs": [
    {
     "data": {
      "text/plain": [
       "(314, 14)"
      ]
     },
     "execution_count": 7,
     "metadata": {},
     "output_type": "execute_result"
    }
   ],
   "source": [
    "south_df.shape"
   ]
  },
  {
   "cell_type": "code",
   "execution_count": 8,
   "id": "76edea47",
   "metadata": {},
   "outputs": [
    {
     "name": "stdout",
     "output_type": "stream",
     "text": [
      "<class 'pandas.core.frame.DataFrame'>\n",
      "Int64Index: 245 entries, 0 to 244\n",
      "Data columns (total 14 columns):\n",
      " #   Column                 Non-Null Count  Dtype  \n",
      "---  ------                 --------------  -----  \n",
      " 0   Branch                 245 non-null    object \n",
      " 1   Call Purpose           245 non-null    object \n",
      " 2   Time Block             245 non-null    object \n",
      " 3   Incoming or Outgoing   245 non-null    object \n",
      " 4   Queue                  245 non-null    object \n",
      " 5   Rep ID                 245 non-null    object \n",
      " 6   Sale                   245 non-null    object \n",
      " 7   Lost Call              245 non-null    int64  \n",
      " 8   Abandoned              245 non-null    int64  \n",
      " 9   Busy Minutes           245 non-null    int64  \n",
      " 10  Not Ready Minutes      245 non-null    int64  \n",
      " 11  Incoming Wait Time     82 non-null     float64\n",
      " 12  During Call Wait Time  245 non-null    int64  \n",
      " 13  Calls                  245 non-null    int64  \n",
      "dtypes: float64(1), int64(6), object(7)\n",
      "memory usage: 28.7+ KB\n"
     ]
    }
   ],
   "source": [
    "north_df.info()"
   ]
  },
  {
   "cell_type": "code",
   "execution_count": 9,
   "id": "fada4719",
   "metadata": {},
   "outputs": [
    {
     "name": "stdout",
     "output_type": "stream",
     "text": [
      "<class 'pandas.core.frame.DataFrame'>\n",
      "Int64Index: 314 entries, 0 to 313\n",
      "Data columns (total 14 columns):\n",
      " #   Column                 Non-Null Count  Dtype  \n",
      "---  ------                 --------------  -----  \n",
      " 0   Branch                 314 non-null    object \n",
      " 1   Call Purpose           314 non-null    object \n",
      " 2   Time Block             314 non-null    object \n",
      " 3   Incoming or Outgoing   314 non-null    object \n",
      " 4   Queue                  314 non-null    object \n",
      " 5   Rep ID                 314 non-null    object \n",
      " 6   Sale                   314 non-null    object \n",
      " 7   Lost Call              314 non-null    int64  \n",
      " 8   Abandoned              314 non-null    int64  \n",
      " 9   Busy Minutes           314 non-null    int64  \n",
      " 10  Not Ready Minutes      314 non-null    int64  \n",
      " 11  Incoming Wait Time     126 non-null    float64\n",
      " 12  During Call Wait Time  314 non-null    int64  \n",
      " 13  Calls                  314 non-null    int64  \n",
      "dtypes: float64(1), int64(6), object(7)\n",
      "memory usage: 36.8+ KB\n"
     ]
    }
   ],
   "source": [
    "south_df.info()"
   ]
  },
  {
   "cell_type": "code",
   "execution_count": 10,
   "id": "096c41fb",
   "metadata": {},
   "outputs": [
    {
     "data": {
      "text/plain": [
       "Index(['Branch', 'Call Purpose', 'Time Block', 'Incoming or Outgoing', 'Queue',\n",
       "       'Rep ID', 'Sale', 'Lost Call', 'Abandoned', 'Busy Minutes',\n",
       "       'Not Ready Minutes', 'Incoming Wait Time', 'During Call Wait Time',\n",
       "       'Calls'],\n",
       "      dtype='object')"
      ]
     },
     "execution_count": 10,
     "metadata": {},
     "output_type": "execute_result"
    }
   ],
   "source": [
    "north_df.columns"
   ]
  },
  {
   "cell_type": "code",
   "execution_count": 11,
   "id": "1da8cabf",
   "metadata": {},
   "outputs": [
    {
     "data": {
      "text/plain": [
       "Index(['Branch', 'Call Purpose', 'Time Block', 'Incoming or Outgoing', 'Queue',\n",
       "       'Rep ID', 'Sale', 'Lost Call', 'Abandoned', 'Busy Minutes',\n",
       "       'Not Ready Minutes', 'Incoming Wait Time', 'During Call Wait Time',\n",
       "       'Calls'],\n",
       "      dtype='object')"
      ]
     },
     "execution_count": 11,
     "metadata": {},
     "output_type": "execute_result"
    }
   ],
   "source": [
    "south_df.columns"
   ]
  },
  {
   "cell_type": "markdown",
   "id": "45e9be9f",
   "metadata": {},
   "source": [
    "# Exploratory Data Analysis\n",
    "\n",
    "**Time to do some EDA! In the process of learning more about the two datasets, make sure you answer the following questions:**\n",
    "\n",
    "1. How many reps are in each branch?\n",
    "2. What is the average busy minutes, not ready minutes, incoming wait time, and during call wait time for each branch?\n",
    "3. What is the number of calls taken for each time block?"
   ]
  },
  {
   "cell_type": "code",
   "execution_count": 12,
   "id": "d7d58ef0",
   "metadata": {},
   "outputs": [],
   "source": [
    "# Put your EDA code here"
   ]
  },
  {
   "cell_type": "code",
   "execution_count": 13,
   "id": "93e48347",
   "metadata": {},
   "outputs": [],
   "source": [
    "#north_df.nlargest(5, 'Incoming Wait Time')"
   ]
  },
  {
   "cell_type": "markdown",
   "id": "f8b66a7c",
   "metadata": {},
   "source": [
    "**How many reps are in each branch?**"
   ]
  },
  {
   "cell_type": "code",
   "execution_count": 14,
   "id": "d24995eb",
   "metadata": {},
   "outputs": [
    {
     "data": {
      "text/plain": [
       "9"
      ]
     },
     "execution_count": 14,
     "metadata": {},
     "output_type": "execute_result"
    }
   ],
   "source": [
    "north_df['Rep ID'].nunique()"
   ]
  },
  {
   "cell_type": "code",
   "execution_count": 15,
   "id": "add694c4",
   "metadata": {},
   "outputs": [
    {
     "data": {
      "text/plain": [
       "count       245\n",
       "unique        9\n",
       "top       Brent\n",
       "freq         37\n",
       "Name: Rep ID, dtype: object"
      ]
     },
     "execution_count": 15,
     "metadata": {},
     "output_type": "execute_result"
    }
   ],
   "source": [
    "north_df['Rep ID'].describe()"
   ]
  },
  {
   "cell_type": "code",
   "execution_count": 16,
   "id": "7e5b9295",
   "metadata": {},
   "outputs": [
    {
     "data": {
      "text/plain": [
       "Brent     37\n",
       "Lilly     30\n",
       "Duke      29\n",
       "Todd      29\n",
       "Joe       26\n",
       "Cam       24\n",
       "Xander    24\n",
       "Amanda    23\n",
       "Andy      23\n",
       "Name: Rep ID, dtype: int64"
      ]
     },
     "execution_count": 16,
     "metadata": {},
     "output_type": "execute_result"
    }
   ],
   "source": [
    "north_df['Rep ID'].value_counts()"
   ]
  },
  {
   "cell_type": "code",
   "execution_count": 17,
   "id": "53639908",
   "metadata": {},
   "outputs": [
    {
     "data": {
      "text/plain": [
       "11"
      ]
     },
     "execution_count": 17,
     "metadata": {},
     "output_type": "execute_result"
    }
   ],
   "source": [
    "south_df['Rep ID'].nunique()"
   ]
  },
  {
   "cell_type": "code",
   "execution_count": 18,
   "id": "7bdb735e",
   "metadata": {},
   "outputs": [
    {
     "data": {
      "text/plain": [
       "count      314\n",
       "unique      11\n",
       "top       Eric\n",
       "freq        35\n",
       "Name: Rep ID, dtype: object"
      ]
     },
     "execution_count": 18,
     "metadata": {},
     "output_type": "execute_result"
    }
   ],
   "source": [
    "south_df['Rep ID'].describe()"
   ]
  },
  {
   "cell_type": "code",
   "execution_count": 19,
   "id": "a33be16e",
   "metadata": {},
   "outputs": [
    {
     "data": {
      "text/plain": [
       "Eric      35\n",
       "Randy     33\n",
       "Sandy     32\n",
       "Helga     31\n",
       "Kate      29\n",
       "George    29\n",
       "Karl      28\n",
       "Susan     26\n",
       "Josh      26\n",
       "Sharon    25\n",
       "Alice     20\n",
       "Name: Rep ID, dtype: int64"
      ]
     },
     "execution_count": 19,
     "metadata": {},
     "output_type": "execute_result"
    }
   ],
   "source": [
    "south_df['Rep ID'].value_counts()"
   ]
  },
  {
   "cell_type": "markdown",
   "id": "cdd6e9a1",
   "metadata": {},
   "source": [
    "**What is the average busy minutes, not ready minutes, incoming wait time, and during call wait time for each branch?**"
   ]
  },
  {
   "cell_type": "code",
   "execution_count": 20,
   "id": "d9ae5349",
   "metadata": {},
   "outputs": [
    {
     "data": {
      "text/html": [
       "<div>\n",
       "<style scoped>\n",
       "    .dataframe tbody tr th:only-of-type {\n",
       "        vertical-align: middle;\n",
       "    }\n",
       "\n",
       "    .dataframe tbody tr th {\n",
       "        vertical-align: top;\n",
       "    }\n",
       "\n",
       "    .dataframe thead th {\n",
       "        text-align: right;\n",
       "    }\n",
       "</style>\n",
       "<table border=\"1\" class=\"dataframe\">\n",
       "  <thead>\n",
       "    <tr style=\"text-align: right;\">\n",
       "      <th></th>\n",
       "      <th>Lost Call</th>\n",
       "      <th>Abandoned</th>\n",
       "      <th>Busy Minutes</th>\n",
       "      <th>Not Ready Minutes</th>\n",
       "      <th>Incoming Wait Time</th>\n",
       "      <th>During Call Wait Time</th>\n",
       "      <th>Calls</th>\n",
       "    </tr>\n",
       "  </thead>\n",
       "  <tbody>\n",
       "    <tr>\n",
       "      <th>count</th>\n",
       "      <td>245.000000</td>\n",
       "      <td>245.000000</td>\n",
       "      <td>245.000000</td>\n",
       "      <td>245.000000</td>\n",
       "      <td>82.000000</td>\n",
       "      <td>245.000000</td>\n",
       "      <td>245.0</td>\n",
       "    </tr>\n",
       "    <tr>\n",
       "      <th>mean</th>\n",
       "      <td>0.020408</td>\n",
       "      <td>0.028571</td>\n",
       "      <td>9.987755</td>\n",
       "      <td>1.914286</td>\n",
       "      <td>3.048780</td>\n",
       "      <td>2.967347</td>\n",
       "      <td>1.0</td>\n",
       "    </tr>\n",
       "    <tr>\n",
       "      <th>std</th>\n",
       "      <td>0.141681</td>\n",
       "      <td>0.166940</td>\n",
       "      <td>1.403980</td>\n",
       "      <td>0.771416</td>\n",
       "      <td>1.456382</td>\n",
       "      <td>0.843827</td>\n",
       "      <td>0.0</td>\n",
       "    </tr>\n",
       "    <tr>\n",
       "      <th>min</th>\n",
       "      <td>0.000000</td>\n",
       "      <td>0.000000</td>\n",
       "      <td>8.000000</td>\n",
       "      <td>1.000000</td>\n",
       "      <td>1.000000</td>\n",
       "      <td>2.000000</td>\n",
       "      <td>1.0</td>\n",
       "    </tr>\n",
       "    <tr>\n",
       "      <th>25%</th>\n",
       "      <td>0.000000</td>\n",
       "      <td>0.000000</td>\n",
       "      <td>9.000000</td>\n",
       "      <td>1.000000</td>\n",
       "      <td>2.000000</td>\n",
       "      <td>2.000000</td>\n",
       "      <td>1.0</td>\n",
       "    </tr>\n",
       "    <tr>\n",
       "      <th>50%</th>\n",
       "      <td>0.000000</td>\n",
       "      <td>0.000000</td>\n",
       "      <td>10.000000</td>\n",
       "      <td>2.000000</td>\n",
       "      <td>3.000000</td>\n",
       "      <td>3.000000</td>\n",
       "      <td>1.0</td>\n",
       "    </tr>\n",
       "    <tr>\n",
       "      <th>75%</th>\n",
       "      <td>0.000000</td>\n",
       "      <td>0.000000</td>\n",
       "      <td>11.000000</td>\n",
       "      <td>3.000000</td>\n",
       "      <td>4.000000</td>\n",
       "      <td>4.000000</td>\n",
       "      <td>1.0</td>\n",
       "    </tr>\n",
       "    <tr>\n",
       "      <th>max</th>\n",
       "      <td>1.000000</td>\n",
       "      <td>1.000000</td>\n",
       "      <td>12.000000</td>\n",
       "      <td>3.000000</td>\n",
       "      <td>5.000000</td>\n",
       "      <td>4.000000</td>\n",
       "      <td>1.0</td>\n",
       "    </tr>\n",
       "  </tbody>\n",
       "</table>\n",
       "</div>"
      ],
      "text/plain": [
       "        Lost Call   Abandoned  Busy Minutes  Not Ready Minutes  \\\n",
       "count  245.000000  245.000000    245.000000         245.000000   \n",
       "mean     0.020408    0.028571      9.987755           1.914286   \n",
       "std      0.141681    0.166940      1.403980           0.771416   \n",
       "min      0.000000    0.000000      8.000000           1.000000   \n",
       "25%      0.000000    0.000000      9.000000           1.000000   \n",
       "50%      0.000000    0.000000     10.000000           2.000000   \n",
       "75%      0.000000    0.000000     11.000000           3.000000   \n",
       "max      1.000000    1.000000     12.000000           3.000000   \n",
       "\n",
       "       Incoming Wait Time  During Call Wait Time  Calls  \n",
       "count           82.000000             245.000000  245.0  \n",
       "mean             3.048780               2.967347    1.0  \n",
       "std              1.456382               0.843827    0.0  \n",
       "min              1.000000               2.000000    1.0  \n",
       "25%              2.000000               2.000000    1.0  \n",
       "50%              3.000000               3.000000    1.0  \n",
       "75%              4.000000               4.000000    1.0  \n",
       "max              5.000000               4.000000    1.0  "
      ]
     },
     "execution_count": 20,
     "metadata": {},
     "output_type": "execute_result"
    }
   ],
   "source": [
    "north_df.describe()"
   ]
  },
  {
   "cell_type": "code",
   "execution_count": 21,
   "id": "bc8acf3a",
   "metadata": {},
   "outputs": [
    {
     "data": {
      "text/html": [
       "<div>\n",
       "<style scoped>\n",
       "    .dataframe tbody tr th:only-of-type {\n",
       "        vertical-align: middle;\n",
       "    }\n",
       "\n",
       "    .dataframe tbody tr th {\n",
       "        vertical-align: top;\n",
       "    }\n",
       "\n",
       "    .dataframe thead th {\n",
       "        text-align: right;\n",
       "    }\n",
       "</style>\n",
       "<table border=\"1\" class=\"dataframe\">\n",
       "  <thead>\n",
       "    <tr style=\"text-align: right;\">\n",
       "      <th></th>\n",
       "      <th>Lost Call</th>\n",
       "      <th>Abandoned</th>\n",
       "      <th>Busy Minutes</th>\n",
       "      <th>Not Ready Minutes</th>\n",
       "      <th>Incoming Wait Time</th>\n",
       "      <th>During Call Wait Time</th>\n",
       "      <th>Calls</th>\n",
       "    </tr>\n",
       "  </thead>\n",
       "  <tbody>\n",
       "    <tr>\n",
       "      <th>count</th>\n",
       "      <td>314.000000</td>\n",
       "      <td>314.000000</td>\n",
       "      <td>314.00000</td>\n",
       "      <td>314.000000</td>\n",
       "      <td>126.000000</td>\n",
       "      <td>314.000000</td>\n",
       "      <td>314.0</td>\n",
       "    </tr>\n",
       "    <tr>\n",
       "      <th>mean</th>\n",
       "      <td>0.035032</td>\n",
       "      <td>0.012739</td>\n",
       "      <td>10.05414</td>\n",
       "      <td>1.910828</td>\n",
       "      <td>3.000000</td>\n",
       "      <td>3.076433</td>\n",
       "      <td>1.0</td>\n",
       "    </tr>\n",
       "    <tr>\n",
       "      <th>std</th>\n",
       "      <td>0.184154</td>\n",
       "      <td>0.112324</td>\n",
       "      <td>1.40751</td>\n",
       "      <td>0.860016</td>\n",
       "      <td>1.308434</td>\n",
       "      <td>0.819424</td>\n",
       "      <td>0.0</td>\n",
       "    </tr>\n",
       "    <tr>\n",
       "      <th>min</th>\n",
       "      <td>0.000000</td>\n",
       "      <td>0.000000</td>\n",
       "      <td>8.00000</td>\n",
       "      <td>1.000000</td>\n",
       "      <td>1.000000</td>\n",
       "      <td>2.000000</td>\n",
       "      <td>1.0</td>\n",
       "    </tr>\n",
       "    <tr>\n",
       "      <th>25%</th>\n",
       "      <td>0.000000</td>\n",
       "      <td>0.000000</td>\n",
       "      <td>9.00000</td>\n",
       "      <td>1.000000</td>\n",
       "      <td>2.000000</td>\n",
       "      <td>2.000000</td>\n",
       "      <td>1.0</td>\n",
       "    </tr>\n",
       "    <tr>\n",
       "      <th>50%</th>\n",
       "      <td>0.000000</td>\n",
       "      <td>0.000000</td>\n",
       "      <td>10.00000</td>\n",
       "      <td>2.000000</td>\n",
       "      <td>3.000000</td>\n",
       "      <td>3.000000</td>\n",
       "      <td>1.0</td>\n",
       "    </tr>\n",
       "    <tr>\n",
       "      <th>75%</th>\n",
       "      <td>0.000000</td>\n",
       "      <td>0.000000</td>\n",
       "      <td>11.00000</td>\n",
       "      <td>3.000000</td>\n",
       "      <td>4.000000</td>\n",
       "      <td>4.000000</td>\n",
       "      <td>1.0</td>\n",
       "    </tr>\n",
       "    <tr>\n",
       "      <th>max</th>\n",
       "      <td>1.000000</td>\n",
       "      <td>1.000000</td>\n",
       "      <td>12.00000</td>\n",
       "      <td>3.000000</td>\n",
       "      <td>5.000000</td>\n",
       "      <td>4.000000</td>\n",
       "      <td>1.0</td>\n",
       "    </tr>\n",
       "  </tbody>\n",
       "</table>\n",
       "</div>"
      ],
      "text/plain": [
       "        Lost Call   Abandoned  Busy Minutes  Not Ready Minutes  \\\n",
       "count  314.000000  314.000000     314.00000         314.000000   \n",
       "mean     0.035032    0.012739      10.05414           1.910828   \n",
       "std      0.184154    0.112324       1.40751           0.860016   \n",
       "min      0.000000    0.000000       8.00000           1.000000   \n",
       "25%      0.000000    0.000000       9.00000           1.000000   \n",
       "50%      0.000000    0.000000      10.00000           2.000000   \n",
       "75%      0.000000    0.000000      11.00000           3.000000   \n",
       "max      1.000000    1.000000      12.00000           3.000000   \n",
       "\n",
       "       Incoming Wait Time  During Call Wait Time  Calls  \n",
       "count          126.000000             314.000000  314.0  \n",
       "mean             3.000000               3.076433    1.0  \n",
       "std              1.308434               0.819424    0.0  \n",
       "min              1.000000               2.000000    1.0  \n",
       "25%              2.000000               2.000000    1.0  \n",
       "50%              3.000000               3.000000    1.0  \n",
       "75%              4.000000               4.000000    1.0  \n",
       "max              5.000000               4.000000    1.0  "
      ]
     },
     "execution_count": 21,
     "metadata": {},
     "output_type": "execute_result"
    }
   ],
   "source": [
    "south_df.describe()"
   ]
  },
  {
   "cell_type": "code",
   "execution_count": 22,
   "id": "a584d524",
   "metadata": {},
   "outputs": [
    {
     "data": {
      "text/plain": [
       "Busy Minutes             9.987755\n",
       "Not Ready Minutes        1.914286\n",
       "Incoming Wait Time       3.048780\n",
       "During Call Wait Time    2.967347\n",
       "dtype: float64"
      ]
     },
     "execution_count": 22,
     "metadata": {},
     "output_type": "execute_result"
    }
   ],
   "source": [
    "north_df[['Busy Minutes','Not Ready Minutes','Incoming Wait Time', 'During Call Wait Time']].mean()"
   ]
  },
  {
   "cell_type": "code",
   "execution_count": 23,
   "id": "15a34798",
   "metadata": {},
   "outputs": [
    {
     "data": {
      "text/plain": [
       "Busy Minutes             10.054140\n",
       "Not Ready Minutes         1.910828\n",
       "Incoming Wait Time        3.000000\n",
       "During Call Wait Time     3.076433\n",
       "dtype: float64"
      ]
     },
     "execution_count": 23,
     "metadata": {},
     "output_type": "execute_result"
    }
   ],
   "source": [
    "south_df[['Busy Minutes','Not Ready Minutes','Incoming Wait Time', 'During Call Wait Time']].mean()"
   ]
  },
  {
   "cell_type": "markdown",
   "id": "3575fe00",
   "metadata": {},
   "source": [
    "**What is the number of calls taken for each time block?**"
   ]
  },
  {
   "cell_type": "code",
   "execution_count": 24,
   "id": "b75dfe8c",
   "metadata": {},
   "outputs": [
    {
     "data": {
      "text/plain": [
       "12:00 PM    45\n",
       "10:00 AM    43\n",
       "2:00 PM     35\n",
       "3:00 PM     30\n",
       "4:00 PM     28\n",
       "11:00 AM    25\n",
       "5:00 PM     17\n",
       "1:00 PM     17\n",
       "9:00 AM      5\n",
       "Name: Time Block, dtype: int64"
      ]
     },
     "execution_count": 24,
     "metadata": {},
     "output_type": "execute_result"
    }
   ],
   "source": [
    "north_df['Time Block'].value_counts()"
   ]
  },
  {
   "cell_type": "code",
   "execution_count": 25,
   "id": "8ee60752",
   "metadata": {},
   "outputs": [
    {
     "data": {
      "text/plain": [
       "12:00 PM    75\n",
       "10:00 AM    56\n",
       "3:00 PM     43\n",
       "11:00 AM    31\n",
       "2:00 PM     30\n",
       "5:00 PM     26\n",
       "4:00 PM     25\n",
       "1:00 PM     23\n",
       "9:00 AM      5\n",
       "Name: Time Block, dtype: int64"
      ]
     },
     "execution_count": 25,
     "metadata": {},
     "output_type": "execute_result"
    }
   ],
   "source": [
    "south_df['Time Block'].value_counts()"
   ]
  },
  {
   "cell_type": "code",
   "execution_count": 26,
   "id": "d59b0f91",
   "metadata": {},
   "outputs": [
    {
     "data": {
      "text/html": [
       "<div>\n",
       "<style scoped>\n",
       "    .dataframe tbody tr th:only-of-type {\n",
       "        vertical-align: middle;\n",
       "    }\n",
       "\n",
       "    .dataframe tbody tr th {\n",
       "        vertical-align: top;\n",
       "    }\n",
       "\n",
       "    .dataframe thead th {\n",
       "        text-align: right;\n",
       "    }\n",
       "</style>\n",
       "<table border=\"1\" class=\"dataframe\">\n",
       "  <thead>\n",
       "    <tr style=\"text-align: right;\">\n",
       "      <th></th>\n",
       "      <th>Calls</th>\n",
       "    </tr>\n",
       "    <tr>\n",
       "      <th>Time Block</th>\n",
       "      <th></th>\n",
       "    </tr>\n",
       "  </thead>\n",
       "  <tbody>\n",
       "    <tr>\n",
       "      <th>10:00 AM</th>\n",
       "      <td>43</td>\n",
       "    </tr>\n",
       "    <tr>\n",
       "      <th>11:00 AM</th>\n",
       "      <td>25</td>\n",
       "    </tr>\n",
       "    <tr>\n",
       "      <th>12:00 PM</th>\n",
       "      <td>45</td>\n",
       "    </tr>\n",
       "    <tr>\n",
       "      <th>1:00 PM</th>\n",
       "      <td>17</td>\n",
       "    </tr>\n",
       "    <tr>\n",
       "      <th>2:00 PM</th>\n",
       "      <td>35</td>\n",
       "    </tr>\n",
       "    <tr>\n",
       "      <th>3:00 PM</th>\n",
       "      <td>30</td>\n",
       "    </tr>\n",
       "    <tr>\n",
       "      <th>4:00 PM</th>\n",
       "      <td>28</td>\n",
       "    </tr>\n",
       "    <tr>\n",
       "      <th>5:00 PM</th>\n",
       "      <td>17</td>\n",
       "    </tr>\n",
       "    <tr>\n",
       "      <th>9:00 AM</th>\n",
       "      <td>5</td>\n",
       "    </tr>\n",
       "  </tbody>\n",
       "</table>\n",
       "</div>"
      ],
      "text/plain": [
       "            Calls\n",
       "Time Block       \n",
       "10:00 AM       43\n",
       "11:00 AM       25\n",
       "12:00 PM       45\n",
       "1:00 PM        17\n",
       "2:00 PM        35\n",
       "3:00 PM        30\n",
       "4:00 PM        28\n",
       "5:00 PM        17\n",
       "9:00 AM         5"
      ]
     },
     "execution_count": 26,
     "metadata": {},
     "output_type": "execute_result"
    }
   ],
   "source": [
    "north_df[[\"Time Block\", \"Calls\"]].groupby(\"Time Block\").sum()"
   ]
  },
  {
   "cell_type": "code",
   "execution_count": 27,
   "id": "76ed184c",
   "metadata": {},
   "outputs": [
    {
     "data": {
      "text/html": [
       "<div>\n",
       "<style scoped>\n",
       "    .dataframe tbody tr th:only-of-type {\n",
       "        vertical-align: middle;\n",
       "    }\n",
       "\n",
       "    .dataframe tbody tr th {\n",
       "        vertical-align: top;\n",
       "    }\n",
       "\n",
       "    .dataframe thead th {\n",
       "        text-align: right;\n",
       "    }\n",
       "</style>\n",
       "<table border=\"1\" class=\"dataframe\">\n",
       "  <thead>\n",
       "    <tr style=\"text-align: right;\">\n",
       "      <th></th>\n",
       "      <th>Calls</th>\n",
       "    </tr>\n",
       "    <tr>\n",
       "      <th>Time Block</th>\n",
       "      <th></th>\n",
       "    </tr>\n",
       "  </thead>\n",
       "  <tbody>\n",
       "    <tr>\n",
       "      <th>10:00 AM</th>\n",
       "      <td>56</td>\n",
       "    </tr>\n",
       "    <tr>\n",
       "      <th>11:00 AM</th>\n",
       "      <td>31</td>\n",
       "    </tr>\n",
       "    <tr>\n",
       "      <th>12:00 PM</th>\n",
       "      <td>75</td>\n",
       "    </tr>\n",
       "    <tr>\n",
       "      <th>1:00 PM</th>\n",
       "      <td>23</td>\n",
       "    </tr>\n",
       "    <tr>\n",
       "      <th>2:00 PM</th>\n",
       "      <td>30</td>\n",
       "    </tr>\n",
       "    <tr>\n",
       "      <th>3:00 PM</th>\n",
       "      <td>43</td>\n",
       "    </tr>\n",
       "    <tr>\n",
       "      <th>4:00 PM</th>\n",
       "      <td>25</td>\n",
       "    </tr>\n",
       "    <tr>\n",
       "      <th>5:00 PM</th>\n",
       "      <td>26</td>\n",
       "    </tr>\n",
       "    <tr>\n",
       "      <th>9:00 AM</th>\n",
       "      <td>5</td>\n",
       "    </tr>\n",
       "  </tbody>\n",
       "</table>\n",
       "</div>"
      ],
      "text/plain": [
       "            Calls\n",
       "Time Block       \n",
       "10:00 AM       56\n",
       "11:00 AM       31\n",
       "12:00 PM       75\n",
       "1:00 PM        23\n",
       "2:00 PM        30\n",
       "3:00 PM        43\n",
       "4:00 PM        25\n",
       "5:00 PM        26\n",
       "9:00 AM         5"
      ]
     },
     "execution_count": 27,
     "metadata": {},
     "output_type": "execute_result"
    }
   ],
   "source": [
    "south_df[[\"Time Block\", \"Calls\"]].groupby(\"Time Block\").sum()"
   ]
  },
  {
   "cell_type": "markdown",
   "id": "198da45b",
   "metadata": {},
   "source": [
    "### EDA Results\n",
    "\n",
    "Make note of your results here!\n",
    "\n",
    "### 1. How many reps are in each branch?\n",
    "\n",
    "\n",
    "\n",
    "**North Branch:9**\n",
    "\n",
    "Brent,\n",
    "Lilly,\n",
    "Duke, \n",
    "Todd,\n",
    "Joe, \n",
    "Xander,\n",
    "Cam,\n",
    "Amanda,\n",
    "Andy,\n",
    "\n",
    "**South Branch:11**\n",
    "\n",
    "Eric,\n",
    "Randy,\n",
    "Sandy,\n",
    "Helga,\n",
    "George,\n",
    "Kate,\n",
    "Karl,\n",
    "Susan,\n",
    "Josh,\n",
    "Sharon,\n",
    "Alice, \n",
    "\n",
    "\n",
    "### 2. What is the average busy minutes, not ready minutes, incoming wait time, and during call wait time for each branch?\n",
    "\n",
    "\n",
    "\n",
    "**North Branch Average:**\n",
    "\n",
    "Busy Minutes-             9.987755\n",
    "\n",
    "\n",
    "Not Ready Minutes-        1.914286\n",
    "\n",
    "\n",
    "Incoming Wait Time-       3.048780\n",
    "\n",
    "\n",
    "During Call Wait Time-    2.967347\n",
    "\n",
    "\n",
    "**South Branch Average:**\n",
    "\n",
    "Busy Minutes-             10.054140\n",
    "\n",
    "\n",
    "Not Ready Minutes-         1.910828\n",
    "\n",
    "\n",
    "Incoming Wait Time-        3.000000\n",
    "\n",
    "\n",
    "During Call Wait Time-     3.076433\n",
    "\n",
    "\n",
    "\n",
    "### 3. What is the number of calls taken for each time block?\n",
    "\n",
    "\n",
    "\n",
    "**North Branch Calls per time block:**\n",
    "\n",
    "12:00 PM-    45\n",
    "\n",
    "10:00 AM -   43\n",
    "\n",
    "2:00 PM -    35\n",
    "\n",
    "3:00 PM -    30\n",
    "\n",
    "4:00 PM -    28\n",
    "\n",
    "11:00 AM -   25\n",
    "\n",
    "5:00 PM -    17\n",
    "\n",
    "1:00 PM -    17\n",
    "\n",
    "9:00 AM -     5\n",
    "\n",
    "**South Branch Calls per time block:**\n",
    "\n",
    "12:00 PM -   75\n",
    "\n",
    "10:00 AM -   56\n",
    "\n",
    "3:00 PM  -   43\n",
    "\n",
    "11:00 AM -   31\n",
    "\n",
    "2:00 PM  -   30\n",
    "\n",
    "5:00 PM  -   26\n",
    "\n",
    "4:00 PM -    25\n",
    "\n",
    "1:00 PM -    23\n",
    "\n",
    "9:00 AM  -    5\n",
    "\n"
   ]
  },
  {
   "cell_type": "markdown",
   "id": "ec92db6c",
   "metadata": {},
   "source": [
    "## Cleaning Data\n",
    "\n",
    "Now you need to clean up the datasets. When cleaning the datasets, you may find that there isn't dirty data to clean. That is okay! Some questions you need to answer about the data sets:\n",
    "\n",
    "1. Incoming wait time is null in many places. Do all of those places correspond to outgoing calls?\n",
    "2. In the North data set, there are two separate \"YES\" values for a sale. Why and how did you rectify the issue?\n",
    "3. Are there duplicates in the two data sets? If there are, how did you handle them?\n",
    "4. Is any of the data in the two data sets unnecessary? If yes, how did you handle it?"
   ]
  },
  {
   "cell_type": "code",
   "execution_count": 28,
   "id": "b50cfa8a",
   "metadata": {},
   "outputs": [],
   "source": [
    "# Clean your data here"
   ]
  },
  {
   "cell_type": "markdown",
   "id": "4c5a3313",
   "metadata": {},
   "source": [
    "**Check for missing values**"
   ]
  },
  {
   "cell_type": "code",
   "execution_count": 29,
   "id": "d6ee70f3",
   "metadata": {},
   "outputs": [
    {
     "data": {
      "text/plain": [
       "Branch                     0\n",
       "Call Purpose               0\n",
       "Time Block                 0\n",
       "Incoming or Outgoing       0\n",
       "Queue                      0\n",
       "Rep ID                     0\n",
       "Sale                       0\n",
       "Lost Call                  0\n",
       "Abandoned                  0\n",
       "Busy Minutes               0\n",
       "Not Ready Minutes          0\n",
       "Incoming Wait Time       163\n",
       "During Call Wait Time      0\n",
       "Calls                      0\n",
       "dtype: int64"
      ]
     },
     "execution_count": 29,
     "metadata": {},
     "output_type": "execute_result"
    }
   ],
   "source": [
    "north_missing = north_df.isna().sum()\n",
    "north_missing"
   ]
  },
  {
   "cell_type": "code",
   "execution_count": 30,
   "id": "90f05188",
   "metadata": {},
   "outputs": [],
   "source": [
    "#northpct_missing = north_df.isna().mean()\n",
    "\n",
    "#northpct_missing*100\n"
   ]
  },
  {
   "cell_type": "code",
   "execution_count": 31,
   "id": "ebd9c010",
   "metadata": {},
   "outputs": [
    {
     "data": {
      "text/plain": [
       "Branch                     0\n",
       "Call Purpose               0\n",
       "Time Block                 0\n",
       "Incoming or Outgoing       0\n",
       "Queue                      0\n",
       "Rep ID                     0\n",
       "Sale                       0\n",
       "Lost Call                  0\n",
       "Abandoned                  0\n",
       "Busy Minutes               0\n",
       "Not Ready Minutes          0\n",
       "Incoming Wait Time       188\n",
       "During Call Wait Time      0\n",
       "Calls                      0\n",
       "dtype: int64"
      ]
     },
     "execution_count": 31,
     "metadata": {},
     "output_type": "execute_result"
    }
   ],
   "source": [
    "south_missing = south_df.isna().sum()\n",
    "south_missing"
   ]
  },
  {
   "cell_type": "code",
   "execution_count": 32,
   "id": "f8f596b7",
   "metadata": {},
   "outputs": [],
   "source": [
    "#southpct_missing=south_df.isna().mean()\n",
    "#southpct_missing*100"
   ]
  },
  {
   "cell_type": "code",
   "execution_count": 33,
   "id": "3f95cf11",
   "metadata": {},
   "outputs": [],
   "source": [
    "#south_df.groupby('Incoming or Outgoing')['Incoming Wait Time'].value_counts(dropna=False)\n",
    "\n",
    "# Counting occurences as well as missing values:"
   ]
  },
  {
   "cell_type": "markdown",
   "id": "70a395b0",
   "metadata": {},
   "source": [
    "**count of missing values of a column by group:**"
   ]
  },
  {
   "cell_type": "code",
   "execution_count": 34,
   "id": "089a729f",
   "metadata": {},
   "outputs": [
    {
     "data": {
      "text/plain": [
       "Incoming or Outgoing\n",
       "Incoming      0\n",
       "Outgoing    163\n",
       "Name: Incoming Wait Time, dtype: int64"
      ]
     },
     "execution_count": 34,
     "metadata": {},
     "output_type": "execute_result"
    }
   ],
   "source": [
    "north_df.groupby(['Incoming or Outgoing'])['Incoming Wait Time'].apply(lambda x: x.isnull().sum())\n"
   ]
  },
  {
   "cell_type": "code",
   "execution_count": 35,
   "id": "41f5ea12",
   "metadata": {},
   "outputs": [
    {
     "data": {
      "text/plain": [
       "Incoming or Outgoing\n",
       "Incoming      0\n",
       "Outgoing    188\n",
       "Name: Incoming Wait Time, dtype: int64"
      ]
     },
     "execution_count": 35,
     "metadata": {},
     "output_type": "execute_result"
    }
   ],
   "source": [
    "south_df.groupby(['Incoming or Outgoing'])['Incoming Wait Time'].apply(lambda x: x.isnull().sum())\n"
   ]
  },
  {
   "cell_type": "markdown",
   "id": "1c226eb4",
   "metadata": {},
   "source": [
    "**All of the null values under incoming wait time correspond with outgoing calls. These values will be filled with 0**"
   ]
  },
  {
   "cell_type": "code",
   "execution_count": 36,
   "id": "c7f65e0d",
   "metadata": {},
   "outputs": [],
   "source": [
    "north_df['Incoming Wait Time']=north_df['Incoming Wait Time'].fillna(0)"
   ]
  },
  {
   "cell_type": "code",
   "execution_count": 37,
   "id": "cf48d76f",
   "metadata": {},
   "outputs": [],
   "source": [
    "south_df['Incoming Wait Time']=south_df['Incoming Wait Time'].fillna(0)"
   ]
  },
  {
   "cell_type": "code",
   "execution_count": 38,
   "id": "d94a7490",
   "metadata": {},
   "outputs": [],
   "source": [
    "#south_df.isna().sum()\n",
    "\n"
   ]
  },
  {
   "cell_type": "markdown",
   "id": "5f689491",
   "metadata": {},
   "source": [
    "**Verifying the filled values with groupby value counts**"
   ]
  },
  {
   "cell_type": "code",
   "execution_count": 39,
   "id": "203e9889",
   "metadata": {},
   "outputs": [
    {
     "data": {
      "text/html": [
       "<div>\n",
       "<style scoped>\n",
       "    .dataframe tbody tr th:only-of-type {\n",
       "        vertical-align: middle;\n",
       "    }\n",
       "\n",
       "    .dataframe tbody tr th {\n",
       "        vertical-align: top;\n",
       "    }\n",
       "\n",
       "    .dataframe thead th {\n",
       "        text-align: right;\n",
       "    }\n",
       "</style>\n",
       "<table border=\"1\" class=\"dataframe\">\n",
       "  <thead>\n",
       "    <tr style=\"text-align: right;\">\n",
       "      <th>Incoming Wait Time</th>\n",
       "      <th>0.0</th>\n",
       "      <th>1.0</th>\n",
       "      <th>2.0</th>\n",
       "      <th>3.0</th>\n",
       "      <th>4.0</th>\n",
       "      <th>5.0</th>\n",
       "    </tr>\n",
       "    <tr>\n",
       "      <th>Incoming or Outgoing</th>\n",
       "      <th></th>\n",
       "      <th></th>\n",
       "      <th></th>\n",
       "      <th></th>\n",
       "      <th></th>\n",
       "      <th></th>\n",
       "    </tr>\n",
       "  </thead>\n",
       "  <tbody>\n",
       "    <tr>\n",
       "      <th>Incoming</th>\n",
       "      <td>NaN</td>\n",
       "      <td>20.0</td>\n",
       "      <td>28.0</td>\n",
       "      <td>29.0</td>\n",
       "      <td>30.0</td>\n",
       "      <td>19.0</td>\n",
       "    </tr>\n",
       "    <tr>\n",
       "      <th>Outgoing</th>\n",
       "      <td>188.0</td>\n",
       "      <td>NaN</td>\n",
       "      <td>NaN</td>\n",
       "      <td>NaN</td>\n",
       "      <td>NaN</td>\n",
       "      <td>NaN</td>\n",
       "    </tr>\n",
       "  </tbody>\n",
       "</table>\n",
       "</div>"
      ],
      "text/plain": [
       "Incoming Wait Time      0.0   1.0   2.0   3.0   4.0   5.0\n",
       "Incoming or Outgoing                                     \n",
       "Incoming                NaN  20.0  28.0  29.0  30.0  19.0\n",
       "Outgoing              188.0   NaN   NaN   NaN   NaN   NaN"
      ]
     },
     "execution_count": 39,
     "metadata": {},
     "output_type": "execute_result"
    }
   ],
   "source": [
    "south_df.groupby('Incoming or Outgoing')['Incoming Wait Time'].value_counts().unstack()"
   ]
  },
  {
   "cell_type": "code",
   "execution_count": 40,
   "id": "577d7d8a",
   "metadata": {},
   "outputs": [
    {
     "data": {
      "text/html": [
       "<div>\n",
       "<style scoped>\n",
       "    .dataframe tbody tr th:only-of-type {\n",
       "        vertical-align: middle;\n",
       "    }\n",
       "\n",
       "    .dataframe tbody tr th {\n",
       "        vertical-align: top;\n",
       "    }\n",
       "\n",
       "    .dataframe thead th {\n",
       "        text-align: right;\n",
       "    }\n",
       "</style>\n",
       "<table border=\"1\" class=\"dataframe\">\n",
       "  <thead>\n",
       "    <tr style=\"text-align: right;\">\n",
       "      <th>Incoming Wait Time</th>\n",
       "      <th>0.0</th>\n",
       "      <th>1.0</th>\n",
       "      <th>2.0</th>\n",
       "      <th>3.0</th>\n",
       "      <th>4.0</th>\n",
       "      <th>5.0</th>\n",
       "    </tr>\n",
       "    <tr>\n",
       "      <th>Incoming or Outgoing</th>\n",
       "      <th></th>\n",
       "      <th></th>\n",
       "      <th></th>\n",
       "      <th></th>\n",
       "      <th></th>\n",
       "      <th></th>\n",
       "    </tr>\n",
       "  </thead>\n",
       "  <tbody>\n",
       "    <tr>\n",
       "      <th>Incoming</th>\n",
       "      <td>0</td>\n",
       "      <td>17</td>\n",
       "      <td>16</td>\n",
       "      <td>12</td>\n",
       "      <td>20</td>\n",
       "      <td>17</td>\n",
       "    </tr>\n",
       "    <tr>\n",
       "      <th>Outgoing</th>\n",
       "      <td>163</td>\n",
       "      <td>0</td>\n",
       "      <td>0</td>\n",
       "      <td>0</td>\n",
       "      <td>0</td>\n",
       "      <td>0</td>\n",
       "    </tr>\n",
       "  </tbody>\n",
       "</table>\n",
       "</div>"
      ],
      "text/plain": [
       "Incoming Wait Time    0.0  1.0  2.0  3.0  4.0  5.0\n",
       "Incoming or Outgoing                              \n",
       "Incoming                0   17   16   12   20   17\n",
       "Outgoing              163    0    0    0    0    0"
      ]
     },
     "execution_count": 40,
     "metadata": {},
     "output_type": "execute_result"
    }
   ],
   "source": [
    "north_df.groupby(['Incoming or Outgoing', 'Incoming Wait Time']).size().unstack(fill_value=0)"
   ]
  },
  {
   "cell_type": "markdown",
   "id": "0f8a8d4d",
   "metadata": {},
   "source": [
    "**Checking for Duplicate rows:**"
   ]
  },
  {
   "cell_type": "code",
   "execution_count": 41,
   "id": "01e886d0",
   "metadata": {},
   "outputs": [
    {
     "name": "stdout",
     "output_type": "stream",
     "text": [
      "North duplicated rows:  (2, 14)\n"
     ]
    }
   ],
   "source": [
    "northduplicate_rows = north_df[north_df.duplicated()]\n",
    "print(\"North duplicated rows: \", northduplicate_rows.shape)"
   ]
  },
  {
   "cell_type": "code",
   "execution_count": 42,
   "id": "27873e1d",
   "metadata": {},
   "outputs": [
    {
     "data": {
      "text/html": [
       "<div>\n",
       "<style scoped>\n",
       "    .dataframe tbody tr th:only-of-type {\n",
       "        vertical-align: middle;\n",
       "    }\n",
       "\n",
       "    .dataframe tbody tr th {\n",
       "        vertical-align: top;\n",
       "    }\n",
       "\n",
       "    .dataframe thead th {\n",
       "        text-align: right;\n",
       "    }\n",
       "</style>\n",
       "<table border=\"1\" class=\"dataframe\">\n",
       "  <thead>\n",
       "    <tr style=\"text-align: right;\">\n",
       "      <th></th>\n",
       "      <th>Branch</th>\n",
       "      <th>Call Purpose</th>\n",
       "      <th>Time Block</th>\n",
       "      <th>Incoming or Outgoing</th>\n",
       "      <th>Queue</th>\n",
       "      <th>Rep ID</th>\n",
       "      <th>Sale</th>\n",
       "      <th>Lost Call</th>\n",
       "      <th>Abandoned</th>\n",
       "      <th>Busy Minutes</th>\n",
       "      <th>Not Ready Minutes</th>\n",
       "      <th>Incoming Wait Time</th>\n",
       "      <th>During Call Wait Time</th>\n",
       "      <th>Calls</th>\n",
       "    </tr>\n",
       "  </thead>\n",
       "  <tbody>\n",
       "    <tr>\n",
       "      <th>50</th>\n",
       "      <td>North</td>\n",
       "      <td>Sales Support</td>\n",
       "      <td>12:00 PM</td>\n",
       "      <td>Incoming</td>\n",
       "      <td>A</td>\n",
       "      <td>Joe</td>\n",
       "      <td>NO</td>\n",
       "      <td>0</td>\n",
       "      <td>0</td>\n",
       "      <td>10</td>\n",
       "      <td>1</td>\n",
       "      <td>4.0</td>\n",
       "      <td>3</td>\n",
       "      <td>1</td>\n",
       "    </tr>\n",
       "    <tr>\n",
       "      <th>105</th>\n",
       "      <td>North</td>\n",
       "      <td>Sales Support</td>\n",
       "      <td>10:00 AM</td>\n",
       "      <td>Outgoing</td>\n",
       "      <td>A</td>\n",
       "      <td>Amanda</td>\n",
       "      <td>NO</td>\n",
       "      <td>0</td>\n",
       "      <td>0</td>\n",
       "      <td>11</td>\n",
       "      <td>2</td>\n",
       "      <td>0.0</td>\n",
       "      <td>2</td>\n",
       "      <td>1</td>\n",
       "    </tr>\n",
       "  </tbody>\n",
       "</table>\n",
       "</div>"
      ],
      "text/plain": [
       "    Branch   Call Purpose Time Block Incoming or Outgoing Queue  Rep ID Sale  \\\n",
       "50   North  Sales Support   12:00 PM             Incoming     A     Joe   NO   \n",
       "105  North  Sales Support   10:00 AM             Outgoing     A  Amanda   NO   \n",
       "\n",
       "     Lost Call  Abandoned  Busy Minutes  Not Ready Minutes  \\\n",
       "50           0          0            10                  1   \n",
       "105          0          0            11                  2   \n",
       "\n",
       "     Incoming Wait Time  During Call Wait Time  Calls  \n",
       "50                  4.0                      3      1  \n",
       "105                 0.0                      2      1  "
      ]
     },
     "execution_count": 42,
     "metadata": {},
     "output_type": "execute_result"
    }
   ],
   "source": [
    "north_df[north_df.duplicated()]"
   ]
  },
  {
   "cell_type": "code",
   "execution_count": 43,
   "id": "ef75927e",
   "metadata": {},
   "outputs": [
    {
     "name": "stdout",
     "output_type": "stream",
     "text": [
      "South duplicated rows:  (3, 14)\n"
     ]
    }
   ],
   "source": [
    "southduplicate_rows = south_df[south_df.duplicated()]\n",
    "print(\"South duplicated rows: \", southduplicate_rows.shape)"
   ]
  },
  {
   "cell_type": "code",
   "execution_count": 44,
   "id": "b25aea86",
   "metadata": {},
   "outputs": [
    {
     "data": {
      "text/html": [
       "<div>\n",
       "<style scoped>\n",
       "    .dataframe tbody tr th:only-of-type {\n",
       "        vertical-align: middle;\n",
       "    }\n",
       "\n",
       "    .dataframe tbody tr th {\n",
       "        vertical-align: top;\n",
       "    }\n",
       "\n",
       "    .dataframe thead th {\n",
       "        text-align: right;\n",
       "    }\n",
       "</style>\n",
       "<table border=\"1\" class=\"dataframe\">\n",
       "  <thead>\n",
       "    <tr style=\"text-align: right;\">\n",
       "      <th></th>\n",
       "      <th>Branch</th>\n",
       "      <th>Call Purpose</th>\n",
       "      <th>Time Block</th>\n",
       "      <th>Incoming or Outgoing</th>\n",
       "      <th>Queue</th>\n",
       "      <th>Rep ID</th>\n",
       "      <th>Sale</th>\n",
       "      <th>Lost Call</th>\n",
       "      <th>Abandoned</th>\n",
       "      <th>Busy Minutes</th>\n",
       "      <th>Not Ready Minutes</th>\n",
       "      <th>Incoming Wait Time</th>\n",
       "      <th>During Call Wait Time</th>\n",
       "      <th>Calls</th>\n",
       "    </tr>\n",
       "  </thead>\n",
       "  <tbody>\n",
       "    <tr>\n",
       "      <th>58</th>\n",
       "      <td>South</td>\n",
       "      <td>Sales Support</td>\n",
       "      <td>12:00 PM</td>\n",
       "      <td>Incoming</td>\n",
       "      <td>D</td>\n",
       "      <td>Kate</td>\n",
       "      <td>NO</td>\n",
       "      <td>0</td>\n",
       "      <td>0</td>\n",
       "      <td>8</td>\n",
       "      <td>1</td>\n",
       "      <td>3.0</td>\n",
       "      <td>3</td>\n",
       "      <td>1</td>\n",
       "    </tr>\n",
       "    <tr>\n",
       "      <th>170</th>\n",
       "      <td>South</td>\n",
       "      <td>Sales Support</td>\n",
       "      <td>11:00 AM</td>\n",
       "      <td>Outgoing</td>\n",
       "      <td>D</td>\n",
       "      <td>Randy</td>\n",
       "      <td>NO</td>\n",
       "      <td>0</td>\n",
       "      <td>0</td>\n",
       "      <td>8</td>\n",
       "      <td>3</td>\n",
       "      <td>0.0</td>\n",
       "      <td>2</td>\n",
       "      <td>1</td>\n",
       "    </tr>\n",
       "    <tr>\n",
       "      <th>180</th>\n",
       "      <td>South</td>\n",
       "      <td>Sales Support</td>\n",
       "      <td>12:00 PM</td>\n",
       "      <td>Outgoing</td>\n",
       "      <td>C</td>\n",
       "      <td>Sandy</td>\n",
       "      <td>NO</td>\n",
       "      <td>0</td>\n",
       "      <td>0</td>\n",
       "      <td>8</td>\n",
       "      <td>1</td>\n",
       "      <td>0.0</td>\n",
       "      <td>4</td>\n",
       "      <td>1</td>\n",
       "    </tr>\n",
       "  </tbody>\n",
       "</table>\n",
       "</div>"
      ],
      "text/plain": [
       "    Branch   Call Purpose Time Block Incoming or Outgoing Queue Rep ID Sale  \\\n",
       "58   South  Sales Support   12:00 PM             Incoming     D   Kate   NO   \n",
       "170  South  Sales Support   11:00 AM             Outgoing     D  Randy   NO   \n",
       "180  South  Sales Support   12:00 PM             Outgoing     C  Sandy   NO   \n",
       "\n",
       "     Lost Call  Abandoned  Busy Minutes  Not Ready Minutes  \\\n",
       "58           0          0             8                  1   \n",
       "170          0          0             8                  3   \n",
       "180          0          0             8                  1   \n",
       "\n",
       "     Incoming Wait Time  During Call Wait Time  Calls  \n",
       "58                  3.0                      3      1  \n",
       "170                 0.0                      2      1  \n",
       "180                 0.0                      4      1  "
      ]
     },
     "execution_count": 44,
     "metadata": {},
     "output_type": "execute_result"
    }
   ],
   "source": [
    "south_df[south_df.duplicated()]"
   ]
  },
  {
   "cell_type": "code",
   "execution_count": 45,
   "id": "5079e609",
   "metadata": {},
   "outputs": [],
   "source": [
    "#pd.set_option('display.max_rows', None)\n",
    "\n",
    "#north_df.duplicated()\n",
    "\n",
    "#See boolean output for all duplicated rows"
   ]
  },
  {
   "cell_type": "code",
   "execution_count": 46,
   "id": "df16cc08",
   "metadata": {},
   "outputs": [
    {
     "data": {
      "text/plain": [
       "2"
      ]
     },
     "execution_count": 46,
     "metadata": {},
     "output_type": "execute_result"
    },
    {
     "data": {
      "text/plain": [
       "3"
      ]
     },
     "execution_count": 46,
     "metadata": {},
     "output_type": "execute_result"
    }
   ],
   "source": [
    "#Count duplicate in a DataFrame\n",
    "\n",
    "north_df.duplicated().sum()\n",
    "\n",
    "south_df.duplicated().sum()"
   ]
  },
  {
   "cell_type": "markdown",
   "id": "abd95468",
   "metadata": {},
   "source": [
    "## Make a copy of data sets and remove duplicated rows "
   ]
  },
  {
   "cell_type": "code",
   "execution_count": 47,
   "id": "7bb91a09",
   "metadata": {},
   "outputs": [],
   "source": [
    "north_df_copy=north_df.copy()\n",
    "south_df_copy=south_df.copy()"
   ]
  },
  {
   "cell_type": "code",
   "execution_count": 48,
   "id": "ba5630d7",
   "metadata": {},
   "outputs": [],
   "source": [
    "north_df_copy=north_df_copy.drop_duplicates()"
   ]
  },
  {
   "cell_type": "code",
   "execution_count": 49,
   "id": "4a452c68",
   "metadata": {},
   "outputs": [],
   "source": [
    "south_df_copy=south_df_copy.drop_duplicates()"
   ]
  },
  {
   "cell_type": "code",
   "execution_count": 50,
   "id": "d4829773",
   "metadata": {},
   "outputs": [
    {
     "data": {
      "text/plain": [
       "0"
      ]
     },
     "execution_count": 50,
     "metadata": {},
     "output_type": "execute_result"
    }
   ],
   "source": [
    "north_df_copy.duplicated().sum()"
   ]
  },
  {
   "cell_type": "code",
   "execution_count": 51,
   "id": "ea3b1ea1",
   "metadata": {},
   "outputs": [
    {
     "data": {
      "text/plain": [
       "0"
      ]
     },
     "execution_count": 51,
     "metadata": {},
     "output_type": "execute_result"
    }
   ],
   "source": [
    "south_df_copy.duplicated().sum()"
   ]
  },
  {
   "cell_type": "code",
   "execution_count": 52,
   "id": "7c2f369a",
   "metadata": {},
   "outputs": [
    {
     "name": "stdout",
     "output_type": "stream",
     "text": [
      "<class 'pandas.core.frame.DataFrame'>\n",
      "Int64Index: 243 entries, 0 to 244\n",
      "Data columns (total 14 columns):\n",
      " #   Column                 Non-Null Count  Dtype  \n",
      "---  ------                 --------------  -----  \n",
      " 0   Branch                 243 non-null    object \n",
      " 1   Call Purpose           243 non-null    object \n",
      " 2   Time Block             243 non-null    object \n",
      " 3   Incoming or Outgoing   243 non-null    object \n",
      " 4   Queue                  243 non-null    object \n",
      " 5   Rep ID                 243 non-null    object \n",
      " 6   Sale                   243 non-null    object \n",
      " 7   Lost Call              243 non-null    int64  \n",
      " 8   Abandoned              243 non-null    int64  \n",
      " 9   Busy Minutes           243 non-null    int64  \n",
      " 10  Not Ready Minutes      243 non-null    int64  \n",
      " 11  Incoming Wait Time     243 non-null    float64\n",
      " 12  During Call Wait Time  243 non-null    int64  \n",
      " 13  Calls                  243 non-null    int64  \n",
      "dtypes: float64(1), int64(6), object(7)\n",
      "memory usage: 28.5+ KB\n",
      "<class 'pandas.core.frame.DataFrame'>\n",
      "Int64Index: 311 entries, 0 to 313\n",
      "Data columns (total 14 columns):\n",
      " #   Column                 Non-Null Count  Dtype  \n",
      "---  ------                 --------------  -----  \n",
      " 0   Branch                 311 non-null    object \n",
      " 1   Call Purpose           311 non-null    object \n",
      " 2   Time Block             311 non-null    object \n",
      " 3   Incoming or Outgoing   311 non-null    object \n",
      " 4   Queue                  311 non-null    object \n",
      " 5   Rep ID                 311 non-null    object \n",
      " 6   Sale                   311 non-null    object \n",
      " 7   Lost Call              311 non-null    int64  \n",
      " 8   Abandoned              311 non-null    int64  \n",
      " 9   Busy Minutes           311 non-null    int64  \n",
      " 10  Not Ready Minutes      311 non-null    int64  \n",
      " 11  Incoming Wait Time     311 non-null    float64\n",
      " 12  During Call Wait Time  311 non-null    int64  \n",
      " 13  Calls                  311 non-null    int64  \n",
      "dtypes: float64(1), int64(6), object(7)\n",
      "memory usage: 36.4+ KB\n"
     ]
    }
   ],
   "source": [
    "north_df_copy.info()\n",
    "south_df_copy.info()"
   ]
  },
  {
   "cell_type": "markdown",
   "id": "c6dad072",
   "metadata": {},
   "source": [
    "# Side-note-Get count of Missing values of rows  in pandas python:\n",
    "\n",
    "\n",
    "Method 1: north_df.isnull().sum(axis = 1)**\n",
    "\n",
    "\n",
    "Method 2: for i in range(len(north_df.index)) :\n",
    "    print(\"Nan in row \", i , \" : \" ,  north_df.iloc[i].isnull().sum())"
   ]
  },
  {
   "cell_type": "markdown",
   "id": "59019e11",
   "metadata": {},
   "source": [
    "**Rectifying duplicate 'Yes' values in North data set**"
   ]
  },
  {
   "cell_type": "code",
   "execution_count": 53,
   "id": "7da0ae40",
   "metadata": {},
   "outputs": [
    {
     "data": {
      "text/plain": [
       "NO      232\n",
       "YES      10\n",
       "YES       1\n",
       "Name: Sale, dtype: int64"
      ]
     },
     "execution_count": 53,
     "metadata": {},
     "output_type": "execute_result"
    }
   ],
   "source": [
    "north_df_copy['Sale'].value_counts()"
   ]
  },
  {
   "cell_type": "code",
   "execution_count": 54,
   "id": "908e3e22",
   "metadata": {},
   "outputs": [],
   "source": [
    "north_df_copy['Sale']=north_df_copy['Sale'].str.strip()"
   ]
  },
  {
   "cell_type": "code",
   "execution_count": 55,
   "id": "6eef95e2",
   "metadata": {},
   "outputs": [
    {
     "data": {
      "text/plain": [
       "NO     232\n",
       "YES     11\n",
       "Name: Sale, dtype: int64"
      ]
     },
     "execution_count": 55,
     "metadata": {},
     "output_type": "execute_result"
    }
   ],
   "source": [
    "north_df_copy['Sale'].value_counts()"
   ]
  },
  {
   "cell_type": "markdown",
   "id": "14915a26",
   "metadata": {},
   "source": [
    "**Used .strip to remove spaces at the beginning and at the end of the string. The values were the same in terms of casing, so the difference appeared to be within the leading and trailimg whitespaces, which ultimately proved to be correct.**"
   ]
  },
  {
   "cell_type": "markdown",
   "id": "eb1bf3a4",
   "metadata": {},
   "source": [
    "**Unnecessary data**"
   ]
  },
  {
   "cell_type": "code",
   "execution_count": 56,
   "id": "1fdb84ad",
   "metadata": {},
   "outputs": [
    {
     "name": "stdout",
     "output_type": "stream",
     "text": [
      "Branch: 100.00000%\n",
      "North    243\n",
      "Name: Branch, dtype: int64\n",
      "\n",
      "Sale: 95.47325%\n",
      "NO     232\n",
      "YES     11\n",
      "Name: Sale, dtype: int64\n",
      "\n",
      "Lost Call: 97.94239%\n",
      "0    238\n",
      "1      5\n",
      "Name: Lost Call, dtype: int64\n",
      "\n",
      "Abandoned: 97.11934%\n",
      "0    236\n",
      "1      7\n",
      "Name: Abandoned, dtype: int64\n",
      "\n",
      "Calls: 100.00000%\n",
      "1    243\n",
      "Name: Calls, dtype: int64\n",
      "\n"
     ]
    }
   ],
   "source": [
    "#North- columns with a high percentage of the same value\n",
    "num_rows = len(north_df_copy.index)\n",
    "low_information_cols = [] #\n",
    "\n",
    "for col in north_df_copy.columns:\n",
    "    cnts = north_df_copy[col].value_counts(dropna=False)\n",
    "    top_pct = (cnts/num_rows).iloc[0]\n",
    "    \n",
    "    if top_pct > 0.95:\n",
    "        low_information_cols.append(col)\n",
    "        print('{0}: {1:.5f}%'.format(col, top_pct*100))\n",
    "        print(cnts)\n",
    "        print()"
   ]
  },
  {
   "cell_type": "code",
   "execution_count": 57,
   "id": "3bc51a62",
   "metadata": {},
   "outputs": [
    {
     "name": "stdout",
     "output_type": "stream",
     "text": [
      "Branch: 100.00000%\n",
      "South    311\n",
      "Name: Branch, dtype: int64\n",
      "\n",
      "Sale: 98.07074%\n",
      "NO     305\n",
      "YES      6\n",
      "Name: Sale, dtype: int64\n",
      "\n",
      "Lost Call: 96.46302%\n",
      "0    300\n",
      "1     11\n",
      "Name: Lost Call, dtype: int64\n",
      "\n",
      "Abandoned: 98.71383%\n",
      "0    307\n",
      "1      4\n",
      "Name: Abandoned, dtype: int64\n",
      "\n",
      "Calls: 100.00000%\n",
      "1    311\n",
      "Name: Calls, dtype: int64\n",
      "\n"
     ]
    }
   ],
   "source": [
    "#South- columns with a high percentage of the same value\n",
    "num_rows = len(south_df_copy.index)\n",
    "low_information_cols = [] #\n",
    "\n",
    "for col in south_df_copy.columns:\n",
    "    cnts = south_df_copy[col].value_counts(dropna=False)\n",
    "    top_pct = (cnts/num_rows).iloc[0]\n",
    "    \n",
    "    if top_pct > 0.95:\n",
    "        low_information_cols.append(col)\n",
    "        print('{0}: {1:.5f}%'.format(col, top_pct*100))\n",
    "        print(cnts)\n",
    "        print()"
   ]
  },
  {
   "cell_type": "code",
   "execution_count": 58,
   "id": "24a19624",
   "metadata": {},
   "outputs": [
    {
     "data": {
      "text/plain": [
       "(311, 14)"
      ]
     },
     "execution_count": 58,
     "metadata": {},
     "output_type": "execute_result"
    },
    {
     "data": {
      "text/plain": [
       "(243, 14)"
      ]
     },
     "execution_count": 58,
     "metadata": {},
     "output_type": "execute_result"
    },
    {
     "name": "stdout",
     "output_type": "stream",
     "text": [
      "554\n"
     ]
    }
   ],
   "source": [
    "south_df_copy.shape\n",
    "north_df_copy.shape\n",
    "\n",
    "print(north_df_copy.shape[0]+south_df_copy.shape[0])"
   ]
  },
  {
   "cell_type": "markdown",
   "id": "79e80da0",
   "metadata": {},
   "source": [
    "### Cleaning Data Results\n",
    "\n",
    "Make note of your results!\n",
    "\n",
    "### 1. Incoming wait time is null in many places. Do all of those places correspond to outgoing calls?\n",
    "\n",
    "All of the null values under the 'Incoming Wait Time' column corresponded with outgoing calls.This was verified by doing a value count of the two columns ('Incoming or Outgoing' and 'Incoming Wait Time') using the groupby operation. These values were filled with 0\n",
    "\n",
    "### 2. In the North data set, there are two separate \"YES\" values for a sale. Why and how did you rectify the issue?\n",
    "\n",
    "The 2 different 'YES' values were caused by leading and trailing whitespaces. The .strip function was used to rectify this and make the values consistent.\n",
    "\n",
    "### 3. Are there duplicates in the two data sets? If there are, how did you handle them?\n",
    "\n",
    "After assigning the 'Unnamed' column as the index column, 2 duplicate rows were found in the North data set and 3 duplicate rows were found in the South data set. These were dropped to proceed with further analysis.\n",
    "\n",
    "### 4. Is any of the data in the two data sets unnecessary? If yes, how did you handle it?\n",
    "\n",
    "**No unnecessary data as of yet**"
   ]
  },
  {
   "cell_type": "markdown",
   "id": "4820fb7d",
   "metadata": {},
   "source": [
    "## Data Manipulation\n",
    "\n",
    "Before you begin answering any questions, combine the two datasets together to create a third dataframe called `df`. You can use this third dataframe to compare the two call centers to company-wide trends.\n",
    "\n",
    "1. Group by Rep ID and sum the resulting structure. Sort by calls to determine which rep in each branch has the highest number of calls.\n",
    "2. The average call abandonment rate is a KPI when it comes to determining call center efficiency. As you may recall, abandoned calls are calls where the customer hangs up due to long call times. What is the average call abandonment rate for each branch and the whole company? Do any of these fall out of the optimal range of 2-5%?\n",
    "3. Service level is another KPI when it comes to measuring call center efficiency. Service level is the percentage of calls answered within a specific number of seconds. In the case of your employer, their ideal time frame is 2 seconds. What is the percentage of calls answered within 2 seconds for each branch and the entire company?\n",
    "4. For each branch and the entire company, what is the average speed of answer?"
   ]
  },
  {
   "cell_type": "code",
   "execution_count": 59,
   "id": "e26c4dd9",
   "metadata": {},
   "outputs": [],
   "source": [
    "#Merge Example\n",
    "# cc_merge=pd.merge(north_df_copy,                 # Full outer join\n",
    "#                       south_df_copy,\n",
    "#                       on = \"Branch\",\n",
    "#                       how = \"outer\")\n",
    "\n",
    "# cc_merge  "
   ]
  },
  {
   "cell_type": "code",
   "execution_count": 60,
   "id": "2bb2e29b",
   "metadata": {},
   "outputs": [],
   "source": [
    "#Concat horizantally with keys\n",
    "\n",
    "# cc_concat = pd.concat([north_df_copy, south_df_copy], keys=[\"North\", \"South\"], axis=1)\n",
    "\n",
    "# cc_concat\n",
    "\n"
   ]
  },
  {
   "cell_type": "code",
   "execution_count": 61,
   "id": "cde13395",
   "metadata": {},
   "outputs": [],
   "source": [
    "#Concat vertically with keys\n",
    "\n",
    "# cc_vert_concat = pd.concat([north_df_copy, south_df_copy], keys=[\"North\", \"South\"])\n",
    "\n",
    "# cc_vert_concat"
   ]
  },
  {
   "cell_type": "markdown",
   "id": "4564411f",
   "metadata": {},
   "source": [
    "## Cleaned data merged"
   ]
  },
  {
   "cell_type": "code",
   "execution_count": 62,
   "id": "ea8fe600",
   "metadata": {},
   "outputs": [
    {
     "data": {
      "text/html": [
       "<div>\n",
       "<style scoped>\n",
       "    .dataframe tbody tr th:only-of-type {\n",
       "        vertical-align: middle;\n",
       "    }\n",
       "\n",
       "    .dataframe tbody tr th {\n",
       "        vertical-align: top;\n",
       "    }\n",
       "\n",
       "    .dataframe thead th {\n",
       "        text-align: right;\n",
       "    }\n",
       "</style>\n",
       "<table border=\"1\" class=\"dataframe\">\n",
       "  <thead>\n",
       "    <tr style=\"text-align: right;\">\n",
       "      <th></th>\n",
       "      <th>Branch</th>\n",
       "      <th>Call Purpose</th>\n",
       "      <th>Time Block</th>\n",
       "      <th>Incoming or Outgoing</th>\n",
       "      <th>Queue</th>\n",
       "      <th>Rep ID</th>\n",
       "      <th>Sale</th>\n",
       "      <th>Lost Call</th>\n",
       "      <th>Abandoned</th>\n",
       "      <th>Busy Minutes</th>\n",
       "      <th>Not Ready Minutes</th>\n",
       "      <th>Incoming Wait Time</th>\n",
       "      <th>During Call Wait Time</th>\n",
       "      <th>Calls</th>\n",
       "    </tr>\n",
       "  </thead>\n",
       "  <tbody>\n",
       "    <tr>\n",
       "      <th>0</th>\n",
       "      <td>North</td>\n",
       "      <td>Complaint</td>\n",
       "      <td>9:00 AM</td>\n",
       "      <td>Incoming</td>\n",
       "      <td>B</td>\n",
       "      <td>Brent</td>\n",
       "      <td>NO</td>\n",
       "      <td>0</td>\n",
       "      <td>1</td>\n",
       "      <td>9</td>\n",
       "      <td>2</td>\n",
       "      <td>1.0</td>\n",
       "      <td>4</td>\n",
       "      <td>1</td>\n",
       "    </tr>\n",
       "    <tr>\n",
       "      <th>1</th>\n",
       "      <td>North</td>\n",
       "      <td>Sales Support</td>\n",
       "      <td>11:00 AM</td>\n",
       "      <td>Incoming</td>\n",
       "      <td>A</td>\n",
       "      <td>Cam</td>\n",
       "      <td>NO</td>\n",
       "      <td>0</td>\n",
       "      <td>0</td>\n",
       "      <td>11</td>\n",
       "      <td>1</td>\n",
       "      <td>1.0</td>\n",
       "      <td>3</td>\n",
       "      <td>1</td>\n",
       "    </tr>\n",
       "    <tr>\n",
       "      <th>2</th>\n",
       "      <td>North</td>\n",
       "      <td>Sales Support</td>\n",
       "      <td>11:00 AM</td>\n",
       "      <td>Incoming</td>\n",
       "      <td>B</td>\n",
       "      <td>Todd</td>\n",
       "      <td>NO</td>\n",
       "      <td>0</td>\n",
       "      <td>0</td>\n",
       "      <td>9</td>\n",
       "      <td>3</td>\n",
       "      <td>1.0</td>\n",
       "      <td>3</td>\n",
       "      <td>1</td>\n",
       "    </tr>\n",
       "    <tr>\n",
       "      <th>3</th>\n",
       "      <td>North</td>\n",
       "      <td>Sales Support</td>\n",
       "      <td>4:00 PM</td>\n",
       "      <td>Incoming</td>\n",
       "      <td>B</td>\n",
       "      <td>Brent</td>\n",
       "      <td>NO</td>\n",
       "      <td>0</td>\n",
       "      <td>0</td>\n",
       "      <td>11</td>\n",
       "      <td>2</td>\n",
       "      <td>1.0</td>\n",
       "      <td>4</td>\n",
       "      <td>1</td>\n",
       "    </tr>\n",
       "    <tr>\n",
       "      <th>4</th>\n",
       "      <td>North</td>\n",
       "      <td>Product Support</td>\n",
       "      <td>12:00 PM</td>\n",
       "      <td>Incoming</td>\n",
       "      <td>B</td>\n",
       "      <td>Brent</td>\n",
       "      <td>NO</td>\n",
       "      <td>0</td>\n",
       "      <td>0</td>\n",
       "      <td>8</td>\n",
       "      <td>2</td>\n",
       "      <td>1.0</td>\n",
       "      <td>4</td>\n",
       "      <td>1</td>\n",
       "    </tr>\n",
       "    <tr>\n",
       "      <th>...</th>\n",
       "      <td>...</td>\n",
       "      <td>...</td>\n",
       "      <td>...</td>\n",
       "      <td>...</td>\n",
       "      <td>...</td>\n",
       "      <td>...</td>\n",
       "      <td>...</td>\n",
       "      <td>...</td>\n",
       "      <td>...</td>\n",
       "      <td>...</td>\n",
       "      <td>...</td>\n",
       "      <td>...</td>\n",
       "      <td>...</td>\n",
       "      <td>...</td>\n",
       "    </tr>\n",
       "    <tr>\n",
       "      <th>549</th>\n",
       "      <td>South</td>\n",
       "      <td>Product Support</td>\n",
       "      <td>5:00 PM</td>\n",
       "      <td>Outgoing</td>\n",
       "      <td>D</td>\n",
       "      <td>Helga</td>\n",
       "      <td>NO</td>\n",
       "      <td>0</td>\n",
       "      <td>0</td>\n",
       "      <td>10</td>\n",
       "      <td>3</td>\n",
       "      <td>0.0</td>\n",
       "      <td>4</td>\n",
       "      <td>1</td>\n",
       "    </tr>\n",
       "    <tr>\n",
       "      <th>550</th>\n",
       "      <td>South</td>\n",
       "      <td>Product Support</td>\n",
       "      <td>5:00 PM</td>\n",
       "      <td>Outgoing</td>\n",
       "      <td>C</td>\n",
       "      <td>Susan</td>\n",
       "      <td>NO</td>\n",
       "      <td>0</td>\n",
       "      <td>0</td>\n",
       "      <td>12</td>\n",
       "      <td>3</td>\n",
       "      <td>0.0</td>\n",
       "      <td>4</td>\n",
       "      <td>1</td>\n",
       "    </tr>\n",
       "    <tr>\n",
       "      <th>551</th>\n",
       "      <td>South</td>\n",
       "      <td>Product Support</td>\n",
       "      <td>5:00 PM</td>\n",
       "      <td>Outgoing</td>\n",
       "      <td>C</td>\n",
       "      <td>Sandy</td>\n",
       "      <td>NO</td>\n",
       "      <td>0</td>\n",
       "      <td>0</td>\n",
       "      <td>9</td>\n",
       "      <td>3</td>\n",
       "      <td>0.0</td>\n",
       "      <td>4</td>\n",
       "      <td>1</td>\n",
       "    </tr>\n",
       "    <tr>\n",
       "      <th>552</th>\n",
       "      <td>South</td>\n",
       "      <td>Product Support</td>\n",
       "      <td>5:00 PM</td>\n",
       "      <td>Outgoing</td>\n",
       "      <td>C</td>\n",
       "      <td>Eric</td>\n",
       "      <td>NO</td>\n",
       "      <td>0</td>\n",
       "      <td>0</td>\n",
       "      <td>10</td>\n",
       "      <td>1</td>\n",
       "      <td>0.0</td>\n",
       "      <td>2</td>\n",
       "      <td>1</td>\n",
       "    </tr>\n",
       "    <tr>\n",
       "      <th>553</th>\n",
       "      <td>South</td>\n",
       "      <td>Product Support</td>\n",
       "      <td>5:00 PM</td>\n",
       "      <td>Outgoing</td>\n",
       "      <td>D</td>\n",
       "      <td>George</td>\n",
       "      <td>NO</td>\n",
       "      <td>0</td>\n",
       "      <td>0</td>\n",
       "      <td>10</td>\n",
       "      <td>2</td>\n",
       "      <td>0.0</td>\n",
       "      <td>3</td>\n",
       "      <td>1</td>\n",
       "    </tr>\n",
       "  </tbody>\n",
       "</table>\n",
       "<p>554 rows × 14 columns</p>\n",
       "</div>"
      ],
      "text/plain": [
       "    Branch     Call Purpose Time Block Incoming or Outgoing Queue  Rep ID  \\\n",
       "0    North        Complaint    9:00 AM             Incoming     B   Brent   \n",
       "1    North    Sales Support   11:00 AM             Incoming     A     Cam   \n",
       "2    North    Sales Support   11:00 AM             Incoming     B    Todd   \n",
       "3    North    Sales Support    4:00 PM             Incoming     B   Brent   \n",
       "4    North  Product Support   12:00 PM             Incoming     B   Brent   \n",
       "..     ...              ...        ...                  ...   ...     ...   \n",
       "549  South  Product Support    5:00 PM             Outgoing     D   Helga   \n",
       "550  South  Product Support    5:00 PM             Outgoing     C   Susan   \n",
       "551  South  Product Support    5:00 PM             Outgoing     C   Sandy   \n",
       "552  South  Product Support    5:00 PM             Outgoing     C    Eric   \n",
       "553  South  Product Support    5:00 PM             Outgoing     D  George   \n",
       "\n",
       "    Sale  Lost Call  Abandoned  Busy Minutes  Not Ready Minutes  \\\n",
       "0     NO          0          1             9                  2   \n",
       "1     NO          0          0            11                  1   \n",
       "2     NO          0          0             9                  3   \n",
       "3     NO          0          0            11                  2   \n",
       "4     NO          0          0             8                  2   \n",
       "..   ...        ...        ...           ...                ...   \n",
       "549   NO          0          0            10                  3   \n",
       "550   NO          0          0            12                  3   \n",
       "551   NO          0          0             9                  3   \n",
       "552   NO          0          0            10                  1   \n",
       "553   NO          0          0            10                  2   \n",
       "\n",
       "     Incoming Wait Time  During Call Wait Time  Calls  \n",
       "0                   1.0                      4      1  \n",
       "1                   1.0                      3      1  \n",
       "2                   1.0                      3      1  \n",
       "3                   1.0                      4      1  \n",
       "4                   1.0                      4      1  \n",
       "..                  ...                    ...    ...  \n",
       "549                 0.0                      4      1  \n",
       "550                 0.0                      4      1  \n",
       "551                 0.0                      4      1  \n",
       "552                 0.0                      2      1  \n",
       "553                 0.0                      3      1  \n",
       "\n",
       "[554 rows x 14 columns]"
      ]
     },
     "execution_count": 62,
     "metadata": {},
     "output_type": "execute_result"
    }
   ],
   "source": [
    "# Manipulate data here\n",
    "\n",
    "df=pd.concat([north_df_copy, south_df_copy], ignore_index=True)\n",
    "\n",
    "df"
   ]
  },
  {
   "cell_type": "markdown",
   "id": "fb8f3a36",
   "metadata": {},
   "source": [
    "## Group by Rep ID and sum the resulting structure. Sort by calls to determine which rep in each branch has the highest number of calls."
   ]
  },
  {
   "cell_type": "code",
   "execution_count": 63,
   "id": "aaf7af41",
   "metadata": {},
   "outputs": [
    {
     "data": {
      "text/html": [
       "<div>\n",
       "<style scoped>\n",
       "    .dataframe tbody tr th:only-of-type {\n",
       "        vertical-align: middle;\n",
       "    }\n",
       "\n",
       "    .dataframe tbody tr th {\n",
       "        vertical-align: top;\n",
       "    }\n",
       "\n",
       "    .dataframe thead th {\n",
       "        text-align: right;\n",
       "    }\n",
       "</style>\n",
       "<table border=\"1\" class=\"dataframe\">\n",
       "  <thead>\n",
       "    <tr style=\"text-align: right;\">\n",
       "      <th></th>\n",
       "      <th></th>\n",
       "      <th>Lost Call</th>\n",
       "      <th>Abandoned</th>\n",
       "      <th>Busy Minutes</th>\n",
       "      <th>Not Ready Minutes</th>\n",
       "      <th>Incoming Wait Time</th>\n",
       "      <th>During Call Wait Time</th>\n",
       "      <th>Calls</th>\n",
       "    </tr>\n",
       "    <tr>\n",
       "      <th>Rep ID</th>\n",
       "      <th>Branch</th>\n",
       "      <th></th>\n",
       "      <th></th>\n",
       "      <th></th>\n",
       "      <th></th>\n",
       "      <th></th>\n",
       "      <th></th>\n",
       "      <th></th>\n",
       "    </tr>\n",
       "  </thead>\n",
       "  <tbody>\n",
       "    <tr>\n",
       "      <th>Brent</th>\n",
       "      <th>North</th>\n",
       "      <td>0</td>\n",
       "      <td>1</td>\n",
       "      <td>362</td>\n",
       "      <td>71</td>\n",
       "      <td>17.0</td>\n",
       "      <td>117</td>\n",
       "      <td>37</td>\n",
       "    </tr>\n",
       "    <tr>\n",
       "      <th>Eric</th>\n",
       "      <th>South</th>\n",
       "      <td>0</td>\n",
       "      <td>0</td>\n",
       "      <td>361</td>\n",
       "      <td>54</td>\n",
       "      <td>47.0</td>\n",
       "      <td>112</td>\n",
       "      <td>35</td>\n",
       "    </tr>\n",
       "    <tr>\n",
       "      <th>Randy</th>\n",
       "      <th>South</th>\n",
       "      <td>3</td>\n",
       "      <td>1</td>\n",
       "      <td>312</td>\n",
       "      <td>63</td>\n",
       "      <td>47.0</td>\n",
       "      <td>96</td>\n",
       "      <td>32</td>\n",
       "    </tr>\n",
       "    <tr>\n",
       "      <th>Sandy</th>\n",
       "      <th>South</th>\n",
       "      <td>1</td>\n",
       "      <td>0</td>\n",
       "      <td>317</td>\n",
       "      <td>59</td>\n",
       "      <td>34.0</td>\n",
       "      <td>96</td>\n",
       "      <td>31</td>\n",
       "    </tr>\n",
       "    <tr>\n",
       "      <th>Helga</th>\n",
       "      <th>South</th>\n",
       "      <td>0</td>\n",
       "      <td>2</td>\n",
       "      <td>292</td>\n",
       "      <td>58</td>\n",
       "      <td>36.0</td>\n",
       "      <td>95</td>\n",
       "      <td>31</td>\n",
       "    </tr>\n",
       "    <tr>\n",
       "      <th>Lilly</th>\n",
       "      <th>North</th>\n",
       "      <td>0</td>\n",
       "      <td>2</td>\n",
       "      <td>307</td>\n",
       "      <td>59</td>\n",
       "      <td>37.0</td>\n",
       "      <td>88</td>\n",
       "      <td>30</td>\n",
       "    </tr>\n",
       "    <tr>\n",
       "      <th>Todd</th>\n",
       "      <th>North</th>\n",
       "      <td>1</td>\n",
       "      <td>0</td>\n",
       "      <td>296</td>\n",
       "      <td>58</td>\n",
       "      <td>21.0</td>\n",
       "      <td>97</td>\n",
       "      <td>29</td>\n",
       "    </tr>\n",
       "    <tr>\n",
       "      <th>Duke</th>\n",
       "      <th>North</th>\n",
       "      <td>2</td>\n",
       "      <td>0</td>\n",
       "      <td>292</td>\n",
       "      <td>56</td>\n",
       "      <td>39.0</td>\n",
       "      <td>85</td>\n",
       "      <td>29</td>\n",
       "    </tr>\n",
       "    <tr>\n",
       "      <th>George</th>\n",
       "      <th>South</th>\n",
       "      <td>0</td>\n",
       "      <td>0</td>\n",
       "      <td>298</td>\n",
       "      <td>53</td>\n",
       "      <td>41.0</td>\n",
       "      <td>87</td>\n",
       "      <td>29</td>\n",
       "    </tr>\n",
       "    <tr>\n",
       "      <th>Karl</th>\n",
       "      <th>South</th>\n",
       "      <td>1</td>\n",
       "      <td>0</td>\n",
       "      <td>287</td>\n",
       "      <td>61</td>\n",
       "      <td>26.0</td>\n",
       "      <td>85</td>\n",
       "      <td>28</td>\n",
       "    </tr>\n",
       "    <tr>\n",
       "      <th>Kate</th>\n",
       "      <th>South</th>\n",
       "      <td>0</td>\n",
       "      <td>0</td>\n",
       "      <td>283</td>\n",
       "      <td>60</td>\n",
       "      <td>34.0</td>\n",
       "      <td>80</td>\n",
       "      <td>28</td>\n",
       "    </tr>\n",
       "    <tr>\n",
       "      <th>Josh</th>\n",
       "      <th>South</th>\n",
       "      <td>3</td>\n",
       "      <td>0</td>\n",
       "      <td>260</td>\n",
       "      <td>50</td>\n",
       "      <td>31.0</td>\n",
       "      <td>83</td>\n",
       "      <td>26</td>\n",
       "    </tr>\n",
       "    <tr>\n",
       "      <th>Susan</th>\n",
       "      <th>South</th>\n",
       "      <td>2</td>\n",
       "      <td>0</td>\n",
       "      <td>267</td>\n",
       "      <td>53</td>\n",
       "      <td>35.0</td>\n",
       "      <td>88</td>\n",
       "      <td>26</td>\n",
       "    </tr>\n",
       "    <tr>\n",
       "      <th>Joe</th>\n",
       "      <th>North</th>\n",
       "      <td>0</td>\n",
       "      <td>0</td>\n",
       "      <td>246</td>\n",
       "      <td>48</td>\n",
       "      <td>32.0</td>\n",
       "      <td>78</td>\n",
       "      <td>25</td>\n",
       "    </tr>\n",
       "    <tr>\n",
       "      <th>Sharon</th>\n",
       "      <th>South</th>\n",
       "      <td>1</td>\n",
       "      <td>1</td>\n",
       "      <td>257</td>\n",
       "      <td>38</td>\n",
       "      <td>29.0</td>\n",
       "      <td>77</td>\n",
       "      <td>25</td>\n",
       "    </tr>\n",
       "    <tr>\n",
       "      <th>Xander</th>\n",
       "      <th>North</th>\n",
       "      <td>1</td>\n",
       "      <td>0</td>\n",
       "      <td>244</td>\n",
       "      <td>44</td>\n",
       "      <td>20.0</td>\n",
       "      <td>68</td>\n",
       "      <td>24</td>\n",
       "    </tr>\n",
       "    <tr>\n",
       "      <th>Cam</th>\n",
       "      <th>North</th>\n",
       "      <td>1</td>\n",
       "      <td>0</td>\n",
       "      <td>233</td>\n",
       "      <td>46</td>\n",
       "      <td>32.0</td>\n",
       "      <td>66</td>\n",
       "      <td>24</td>\n",
       "    </tr>\n",
       "    <tr>\n",
       "      <th>Andy</th>\n",
       "      <th>North</th>\n",
       "      <td>0</td>\n",
       "      <td>3</td>\n",
       "      <td>228</td>\n",
       "      <td>43</td>\n",
       "      <td>36.0</td>\n",
       "      <td>65</td>\n",
       "      <td>23</td>\n",
       "    </tr>\n",
       "    <tr>\n",
       "      <th>Amanda</th>\n",
       "      <th>North</th>\n",
       "      <td>0</td>\n",
       "      <td>1</td>\n",
       "      <td>218</td>\n",
       "      <td>41</td>\n",
       "      <td>12.0</td>\n",
       "      <td>58</td>\n",
       "      <td>22</td>\n",
       "    </tr>\n",
       "    <tr>\n",
       "      <th>Alice</th>\n",
       "      <th>South</th>\n",
       "      <td>0</td>\n",
       "      <td>0</td>\n",
       "      <td>199</td>\n",
       "      <td>46</td>\n",
       "      <td>15.0</td>\n",
       "      <td>58</td>\n",
       "      <td>20</td>\n",
       "    </tr>\n",
       "  </tbody>\n",
       "</table>\n",
       "</div>"
      ],
      "text/plain": [
       "               Lost Call  Abandoned  Busy Minutes  Not Ready Minutes  \\\n",
       "Rep ID Branch                                                          \n",
       "Brent  North           0          1           362                 71   \n",
       "Eric   South           0          0           361                 54   \n",
       "Randy  South           3          1           312                 63   \n",
       "Sandy  South           1          0           317                 59   \n",
       "Helga  South           0          2           292                 58   \n",
       "Lilly  North           0          2           307                 59   \n",
       "Todd   North           1          0           296                 58   \n",
       "Duke   North           2          0           292                 56   \n",
       "George South           0          0           298                 53   \n",
       "Karl   South           1          0           287                 61   \n",
       "Kate   South           0          0           283                 60   \n",
       "Josh   South           3          0           260                 50   \n",
       "Susan  South           2          0           267                 53   \n",
       "Joe    North           0          0           246                 48   \n",
       "Sharon South           1          1           257                 38   \n",
       "Xander North           1          0           244                 44   \n",
       "Cam    North           1          0           233                 46   \n",
       "Andy   North           0          3           228                 43   \n",
       "Amanda North           0          1           218                 41   \n",
       "Alice  South           0          0           199                 46   \n",
       "\n",
       "               Incoming Wait Time  During Call Wait Time  Calls  \n",
       "Rep ID Branch                                                    \n",
       "Brent  North                 17.0                    117     37  \n",
       "Eric   South                 47.0                    112     35  \n",
       "Randy  South                 47.0                     96     32  \n",
       "Sandy  South                 34.0                     96     31  \n",
       "Helga  South                 36.0                     95     31  \n",
       "Lilly  North                 37.0                     88     30  \n",
       "Todd   North                 21.0                     97     29  \n",
       "Duke   North                 39.0                     85     29  \n",
       "George South                 41.0                     87     29  \n",
       "Karl   South                 26.0                     85     28  \n",
       "Kate   South                 34.0                     80     28  \n",
       "Josh   South                 31.0                     83     26  \n",
       "Susan  South                 35.0                     88     26  \n",
       "Joe    North                 32.0                     78     25  \n",
       "Sharon South                 29.0                     77     25  \n",
       "Xander North                 20.0                     68     24  \n",
       "Cam    North                 32.0                     66     24  \n",
       "Andy   North                 36.0                     65     23  \n",
       "Amanda North                 12.0                     58     22  \n",
       "Alice  South                 15.0                     58     20  "
      ]
     },
     "execution_count": 63,
     "metadata": {},
     "output_type": "execute_result"
    }
   ],
   "source": [
    "#Group by Rep ID and sum the resulting structure. Sort by calls to determine which rep in each branch has the highest number of calls.\n",
    "\n",
    "rep_calls= df.groupby(['Rep ID', 'Branch']).sum()\n",
    "\n",
    "rep_calls.sort_values(by=[\"Calls\"], ascending = False)\n",
    "\n"
   ]
  },
  {
   "cell_type": "code",
   "execution_count": 64,
   "id": "4ab862a2",
   "metadata": {},
   "outputs": [
    {
     "data": {
      "text/plain": [
       "Rep ID  Branch\n",
       "Brent   North     37\n",
       "Eric    South     35\n",
       "Randy   South     32\n",
       "Sandy   South     31\n",
       "Helga   South     31\n",
       "Lilly   North     30\n",
       "Todd    North     29\n",
       "Duke    North     29\n",
       "George  South     29\n",
       "Karl    South     28\n",
       "Kate    South     28\n",
       "Josh    South     26\n",
       "Susan   South     26\n",
       "Joe     North     25\n",
       "Sharon  South     25\n",
       "Xander  North     24\n",
       "Cam     North     24\n",
       "Andy    North     23\n",
       "Amanda  North     22\n",
       "Alice   South     20\n",
       "Name: Calls, dtype: int64"
      ]
     },
     "execution_count": 64,
     "metadata": {},
     "output_type": "execute_result"
    }
   ],
   "source": [
    "rep_calls1=df.groupby([\"Rep ID\", \"Branch\"])[\"Calls\"].sum().sort_values(ascending=False)\n",
    "\n",
    "rep_calls1"
   ]
  },
  {
   "cell_type": "markdown",
   "id": "fc4580c3",
   "metadata": {},
   "source": [
    "## What is the average call abandonment rate for each branch and the whole company?\n",
    "\n",
    "**An abandoned call is when the customer hangs up because they have been waiting for too long.**"
   ]
  },
  {
   "cell_type": "code",
   "execution_count": 65,
   "id": "11b9afcc",
   "metadata": {},
   "outputs": [
    {
     "name": "stdout",
     "output_type": "stream",
     "text": [
      "Average North Call Abandonment Rate:\n"
     ]
    },
    {
     "data": {
      "text/plain": [
       "mean    0.028807\n",
       "Name: Abandoned, dtype: float64"
      ]
     },
     "execution_count": 65,
     "metadata": {},
     "output_type": "execute_result"
    },
    {
     "name": "stdout",
     "output_type": "stream",
     "text": [
      "\n",
      "\n",
      "Average South Call Abandonment Rate:\n"
     ]
    },
    {
     "data": {
      "text/plain": [
       "mean    0.012862\n",
       "Name: Abandoned, dtype: float64"
      ]
     },
     "execution_count": 65,
     "metadata": {},
     "output_type": "execute_result"
    },
    {
     "name": "stdout",
     "output_type": "stream",
     "text": [
      "\n",
      "\n",
      "Total company wide call abandonment rate:\n"
     ]
    },
    {
     "data": {
      "text/plain": [
       "mean    0.019856\n",
       "Name: Abandoned, dtype: float64"
      ]
     },
     "execution_count": 65,
     "metadata": {},
     "output_type": "execute_result"
    }
   ],
   "source": [
    "#What is the average call abandonment rate for each branch and the whole company?\n",
    "#Do any of these fall out of the optimal range of 2-5%?\n",
    "\n",
    "print(\"Average North Call Abandonment Rate:\")\n",
    "#north_df_copy['Abandoned'].mean()\n",
    "north_df_copy['Abandoned'].agg(['mean']) \n",
    "print('\\n')\n",
    "\n",
    "\n",
    "print(\"Average South Call Abandonment Rate:\")\n",
    "#south_df_copy['Abandoned'].mean()\n",
    "south_df_copy['Abandoned'].agg(['mean']) \n",
    "print('\\n')\n",
    "\n",
    "print(\"Total company wide call abandonment rate:\")\n",
    "#df['Abandoned'].mean()\n",
    "df['Abandoned'].agg(['mean'])   "
   ]
  },
  {
   "cell_type": "code",
   "execution_count": 66,
   "id": "ccede09f",
   "metadata": {},
   "outputs": [
    {
     "name": "stdout",
     "output_type": "stream",
     "text": [
      "North % of abandoned calls\n",
      "2.9 %\n",
      "\n",
      "South % of abandoned calls\n",
      "1.3 %\n",
      "\n",
      "Total % of abandoned calls\n",
      "2.0 %\n"
     ]
    }
   ],
   "source": [
    "north_abd_pct=north_df_copy['Abandoned'].sum()/north_df_copy['Calls'].sum()\n",
    "print('North % of abandoned calls')\n",
    "print((north_abd_pct*100 ).round(1), '%\\n')\n",
    "\n",
    "south_abd_pct=south_df_copy['Abandoned'].sum()/south_df_copy['Calls'].sum()\n",
    "print('South % of abandoned calls')\n",
    "print((south_abd_pct*100 ).round(1), '%\\n')\n",
    "\n",
    "total_abd_pct=df['Abandoned'].sum()/df['Calls'].sum()\n",
    "print('Total % of abandoned calls')\n",
    "print((total_abd_pct*100 ).round(1), '%')\n",
    "\n",
    "\n",
    "# south_df_copy['Abandoned'].sum()\n",
    "# south_df_copy['Calls'].sum()\n"
   ]
  },
  {
   "cell_type": "markdown",
   "id": "5ef4c348",
   "metadata": {},
   "source": [
    "## What is the percentage of calls answered within 2 seconds for each company and the entire company?\n",
    "\n",
    "**NB:Incoming Wait Time - amount of time after assigned rep is available to take the call, where customer waits for representative to pick up a call. This is tracked in seconds.**"
   ]
  },
  {
   "cell_type": "markdown",
   "id": "e5d884c6",
   "metadata": {},
   "source": [
    "**First find Incoming wait time only: IWTO**"
   ]
  },
  {
   "cell_type": "code",
   "execution_count": 67,
   "id": "4fd5bcbd",
   "metadata": {},
   "outputs": [
    {
     "data": {
      "text/html": [
       "<div>\n",
       "<style scoped>\n",
       "    .dataframe tbody tr th:only-of-type {\n",
       "        vertical-align: middle;\n",
       "    }\n",
       "\n",
       "    .dataframe tbody tr th {\n",
       "        vertical-align: top;\n",
       "    }\n",
       "\n",
       "    .dataframe thead th {\n",
       "        text-align: right;\n",
       "    }\n",
       "</style>\n",
       "<table border=\"1\" class=\"dataframe\">\n",
       "  <thead>\n",
       "    <tr style=\"text-align: right;\">\n",
       "      <th>Incoming Wait Time</th>\n",
       "      <th>0.0</th>\n",
       "      <th>1.0</th>\n",
       "      <th>2.0</th>\n",
       "      <th>3.0</th>\n",
       "      <th>4.0</th>\n",
       "      <th>5.0</th>\n",
       "    </tr>\n",
       "    <tr>\n",
       "      <th>Incoming or Outgoing</th>\n",
       "      <th></th>\n",
       "      <th></th>\n",
       "      <th></th>\n",
       "      <th></th>\n",
       "      <th></th>\n",
       "      <th></th>\n",
       "    </tr>\n",
       "  </thead>\n",
       "  <tbody>\n",
       "    <tr>\n",
       "      <th>Incoming</th>\n",
       "      <td>NaN</td>\n",
       "      <td>17.0</td>\n",
       "      <td>16.0</td>\n",
       "      <td>12.0</td>\n",
       "      <td>19.0</td>\n",
       "      <td>17.0</td>\n",
       "    </tr>\n",
       "    <tr>\n",
       "      <th>Outgoing</th>\n",
       "      <td>162.0</td>\n",
       "      <td>NaN</td>\n",
       "      <td>NaN</td>\n",
       "      <td>NaN</td>\n",
       "      <td>NaN</td>\n",
       "      <td>NaN</td>\n",
       "    </tr>\n",
       "  </tbody>\n",
       "</table>\n",
       "</div>"
      ],
      "text/plain": [
       "Incoming Wait Time      0.0   1.0   2.0   3.0   4.0   5.0\n",
       "Incoming or Outgoing                                     \n",
       "Incoming                NaN  17.0  16.0  12.0  19.0  17.0\n",
       "Outgoing              162.0   NaN   NaN   NaN   NaN   NaN"
      ]
     },
     "execution_count": 67,
     "metadata": {},
     "output_type": "execute_result"
    },
    {
     "name": "stdout",
     "output_type": "stream",
     "text": [
      "North Incoming wait times\n"
     ]
    },
    {
     "data": {
      "text/plain": [
       "1.0    17\n",
       "2.0    16\n",
       "3.0    12\n",
       "4.0    19\n",
       "5.0    17\n",
       "Name: Incoming Wait Time, dtype: int64"
      ]
     },
     "execution_count": 67,
     "metadata": {},
     "output_type": "execute_result"
    },
    {
     "name": "stdout",
     "output_type": "stream",
     "text": [
      "\n",
      "\n"
     ]
    },
    {
     "data": {
      "text/html": [
       "<div>\n",
       "<style scoped>\n",
       "    .dataframe tbody tr th:only-of-type {\n",
       "        vertical-align: middle;\n",
       "    }\n",
       "\n",
       "    .dataframe tbody tr th {\n",
       "        vertical-align: top;\n",
       "    }\n",
       "\n",
       "    .dataframe thead th {\n",
       "        text-align: right;\n",
       "    }\n",
       "</style>\n",
       "<table border=\"1\" class=\"dataframe\">\n",
       "  <thead>\n",
       "    <tr style=\"text-align: right;\">\n",
       "      <th>Incoming Wait Time</th>\n",
       "      <th>0.0</th>\n",
       "      <th>1.0</th>\n",
       "      <th>2.0</th>\n",
       "      <th>3.0</th>\n",
       "      <th>4.0</th>\n",
       "      <th>5.0</th>\n",
       "    </tr>\n",
       "    <tr>\n",
       "      <th>Incoming or Outgoing</th>\n",
       "      <th></th>\n",
       "      <th></th>\n",
       "      <th></th>\n",
       "      <th></th>\n",
       "      <th></th>\n",
       "      <th></th>\n",
       "    </tr>\n",
       "  </thead>\n",
       "  <tbody>\n",
       "    <tr>\n",
       "      <th>Incoming</th>\n",
       "      <td>NaN</td>\n",
       "      <td>20.0</td>\n",
       "      <td>28.0</td>\n",
       "      <td>28.0</td>\n",
       "      <td>30.0</td>\n",
       "      <td>19.0</td>\n",
       "    </tr>\n",
       "    <tr>\n",
       "      <th>Outgoing</th>\n",
       "      <td>186.0</td>\n",
       "      <td>NaN</td>\n",
       "      <td>NaN</td>\n",
       "      <td>NaN</td>\n",
       "      <td>NaN</td>\n",
       "      <td>NaN</td>\n",
       "    </tr>\n",
       "  </tbody>\n",
       "</table>\n",
       "</div>"
      ],
      "text/plain": [
       "Incoming Wait Time      0.0   1.0   2.0   3.0   4.0   5.0\n",
       "Incoming or Outgoing                                     \n",
       "Incoming                NaN  20.0  28.0  28.0  30.0  19.0\n",
       "Outgoing              186.0   NaN   NaN   NaN   NaN   NaN"
      ]
     },
     "execution_count": 67,
     "metadata": {},
     "output_type": "execute_result"
    },
    {
     "name": "stdout",
     "output_type": "stream",
     "text": [
      "South Incoming wait times\n"
     ]
    },
    {
     "data": {
      "text/plain": [
       "1.0    20\n",
       "2.0    28\n",
       "3.0    28\n",
       "4.0    30\n",
       "5.0    19\n",
       "Name: Incoming Wait Time, dtype: int64"
      ]
     },
     "execution_count": 67,
     "metadata": {},
     "output_type": "execute_result"
    },
    {
     "name": "stdout",
     "output_type": "stream",
     "text": [
      "\n",
      "\n"
     ]
    },
    {
     "data": {
      "text/html": [
       "<div>\n",
       "<style scoped>\n",
       "    .dataframe tbody tr th:only-of-type {\n",
       "        vertical-align: middle;\n",
       "    }\n",
       "\n",
       "    .dataframe tbody tr th {\n",
       "        vertical-align: top;\n",
       "    }\n",
       "\n",
       "    .dataframe thead th {\n",
       "        text-align: right;\n",
       "    }\n",
       "</style>\n",
       "<table border=\"1\" class=\"dataframe\">\n",
       "  <thead>\n",
       "    <tr style=\"text-align: right;\">\n",
       "      <th>Incoming Wait Time</th>\n",
       "      <th>0.0</th>\n",
       "      <th>1.0</th>\n",
       "      <th>2.0</th>\n",
       "      <th>3.0</th>\n",
       "      <th>4.0</th>\n",
       "      <th>5.0</th>\n",
       "    </tr>\n",
       "    <tr>\n",
       "      <th>Incoming or Outgoing</th>\n",
       "      <th></th>\n",
       "      <th></th>\n",
       "      <th></th>\n",
       "      <th></th>\n",
       "      <th></th>\n",
       "      <th></th>\n",
       "    </tr>\n",
       "  </thead>\n",
       "  <tbody>\n",
       "    <tr>\n",
       "      <th>Incoming</th>\n",
       "      <td>NaN</td>\n",
       "      <td>37.0</td>\n",
       "      <td>44.0</td>\n",
       "      <td>40.0</td>\n",
       "      <td>49.0</td>\n",
       "      <td>36.0</td>\n",
       "    </tr>\n",
       "    <tr>\n",
       "      <th>Outgoing</th>\n",
       "      <td>348.0</td>\n",
       "      <td>NaN</td>\n",
       "      <td>NaN</td>\n",
       "      <td>NaN</td>\n",
       "      <td>NaN</td>\n",
       "      <td>NaN</td>\n",
       "    </tr>\n",
       "  </tbody>\n",
       "</table>\n",
       "</div>"
      ],
      "text/plain": [
       "Incoming Wait Time      0.0   1.0   2.0   3.0   4.0   5.0\n",
       "Incoming or Outgoing                                     \n",
       "Incoming                NaN  37.0  44.0  40.0  49.0  36.0\n",
       "Outgoing              348.0   NaN   NaN   NaN   NaN   NaN"
      ]
     },
     "execution_count": 67,
     "metadata": {},
     "output_type": "execute_result"
    },
    {
     "name": "stdout",
     "output_type": "stream",
     "text": [
      "Total Incoming wait times\n"
     ]
    },
    {
     "data": {
      "text/plain": [
       "1.0    37\n",
       "2.0    44\n",
       "3.0    40\n",
       "4.0    49\n",
       "5.0    36\n",
       "Name: Incoming Wait Time, dtype: int64"
      ]
     },
     "execution_count": 67,
     "metadata": {},
     "output_type": "execute_result"
    }
   ],
   "source": [
    "#Filter incoming calls only from the column using .get_group\n",
    "\n",
    "\n",
    "#North\n",
    "north_df_copy.groupby('Incoming or Outgoing')['Incoming Wait Time'].value_counts().unstack()\n",
    "\n",
    "north_iwto=north_df_copy.groupby('Incoming or Outgoing')['Incoming Wait Time'].get_group('Incoming')\n",
    "\n",
    "print('North Incoming wait times')\n",
    "\n",
    "north_iwto.value_counts().sort_index(ascending=True)\n",
    "\n",
    "print('\\n')\n",
    "\n",
    "\n",
    "\n",
    "#South Incoming Wait Time Only\n",
    "\n",
    "south_df_copy.groupby('Incoming or Outgoing')['Incoming Wait Time'].value_counts().unstack()\n",
    "\n",
    "south_iwto=south_df_copy.groupby('Incoming or Outgoing')['Incoming Wait Time'].get_group('Incoming')\n",
    "\n",
    "print('South Incoming wait times')\n",
    "\n",
    "south_iwto.value_counts().sort_index(ascending=True)\n",
    "\n",
    "print('\\n')\n",
    "\n",
    "\n",
    "#Total Incoming Wait Time Only\n",
    "\n",
    "df.groupby('Incoming or Outgoing')['Incoming Wait Time'].value_counts().unstack()\n",
    "\n",
    "df_iwto=df.groupby('Incoming or Outgoing')['Incoming Wait Time'].get_group('Incoming')\n",
    "\n",
    "print('Total Incoming wait times')\n",
    "\n",
    "df_iwto.value_counts().sort_index(ascending=True)\n",
    "\n"
   ]
  },
  {
   "cell_type": "code",
   "execution_count": 68,
   "id": "dbd5260f",
   "metadata": {},
   "outputs": [
    {
     "name": "stdout",
     "output_type": "stream",
     "text": [
      "North-% of Incoming call wait times sorted by seconds:\n"
     ]
    },
    {
     "data": {
      "text/plain": [
       "1.0    20.987654\n",
       "2.0    19.753086\n",
       "3.0    14.814815\n",
       "4.0    23.456790\n",
       "5.0    20.987654\n",
       "Name: Incoming Wait Time, dtype: float64"
      ]
     },
     "execution_count": 68,
     "metadata": {},
     "output_type": "execute_result"
    },
    {
     "name": "stdout",
     "output_type": "stream",
     "text": [
      "North Incoming wait times within 2 secs:\t\n"
     ]
    },
    {
     "data": {
      "text/plain": [
       "False    59.3%\n",
       "True     40.7%\n",
       "Name: Incoming Wait Time, dtype: object"
      ]
     },
     "execution_count": 68,
     "metadata": {},
     "output_type": "execute_result"
    },
    {
     "name": "stdout",
     "output_type": "stream",
     "text": [
      "\n",
      "\n",
      "South-% of Incoming call wait times sorted by seconds:\n"
     ]
    },
    {
     "data": {
      "text/plain": [
       "1.0    16.0\n",
       "2.0    22.4\n",
       "3.0    22.4\n",
       "4.0    24.0\n",
       "5.0    15.2\n",
       "Name: Incoming Wait Time, dtype: float64"
      ]
     },
     "execution_count": 68,
     "metadata": {},
     "output_type": "execute_result"
    },
    {
     "name": "stdout",
     "output_type": "stream",
     "text": [
      "South Incoming wait times within 2 secs:\t\n"
     ]
    },
    {
     "data": {
      "text/plain": [
       "False    61.6%\n",
       "True     38.4%\n",
       "Name: Incoming Wait Time, dtype: object"
      ]
     },
     "execution_count": 68,
     "metadata": {},
     "output_type": "execute_result"
    },
    {
     "name": "stdout",
     "output_type": "stream",
     "text": [
      "\n",
      "\n",
      "Total company wide % of Incoming call wait times sorted by seconds:\n"
     ]
    },
    {
     "data": {
      "text/plain": [
       "1.0    17.961165\n",
       "2.0    21.359223\n",
       "3.0    19.417476\n",
       "4.0    23.786408\n",
       "5.0    17.475728\n",
       "Name: Incoming Wait Time, dtype: float64"
      ]
     },
     "execution_count": 68,
     "metadata": {},
     "output_type": "execute_result"
    },
    {
     "name": "stdout",
     "output_type": "stream",
     "text": [
      "Total Incoming wait times within 2 secs:\t\n"
     ]
    },
    {
     "data": {
      "text/plain": [
       "False    60.7%\n",
       "True     39.3%\n",
       "Name: Incoming Wait Time, dtype: object"
      ]
     },
     "execution_count": 68,
     "metadata": {},
     "output_type": "execute_result"
    },
    {
     "name": "stdout",
     "output_type": "stream",
     "text": [
      "\n",
      "\n"
     ]
    }
   ],
   "source": [
    "#What is the percentage of calls answered within 2 seconds for each company and the entire company?\n",
    "    \n",
    "\n",
    "    \n",
    "#North\n",
    "print(\"North-% of Incoming call wait times sorted by seconds:\")\n",
    "north_iwto.value_counts().sort_index(ascending=True)/north_iwto.count()*100\n",
    "\n",
    "\n",
    "#North calls answered within 2 seconds\n",
    "north_2sec= north_iwto <=2\n",
    "print (\"North Incoming wait times within 2 secs:\\t\") \n",
    "       \n",
    "north_2sec.value_counts(normalize=True).mul(100).round(1).astype(str)+ '%'\n",
    "\n",
    "print(\"\\n\")\n",
    "\n",
    "\n",
    "\n",
    "#South\n",
    "print(\"South-% of Incoming call wait times sorted by seconds:\")\n",
    "south_iwto.value_counts().sort_index(ascending=True)/south_iwto.count()*100\n",
    "\n",
    "#South calls answered within 2 seconds\n",
    "south_2sec= south_iwto <=2\n",
    "print (\"South Incoming wait times within 2 secs:\\t\") \n",
    "       \n",
    "south_2sec.value_counts(normalize=True).mul(100).round(1).astype(str)+ '%'\n",
    "\n",
    "print(\"\\n\")\n",
    "\n",
    "\n",
    "\n",
    "#Total\n",
    "\n",
    "print('Total company wide % of Incoming call wait times sorted by seconds:')\n",
    "       \n",
    "df_iwto.value_counts().sort_index(ascending=True)/df_iwto.count()*100\n",
    "\n",
    "#Total calls under 2 seconds\n",
    "total_2sec= df_iwto <=2\n",
    "print (\"Total Incoming wait times within 2 secs:\\t\") \n",
    "       \n",
    "total_2sec.value_counts(normalize=True).mul(100).round(1).astype(str)+ '%'\n",
    "\n",
    "print(\"\\n\")\n"
   ]
  },
  {
   "cell_type": "code",
   "execution_count": 69,
   "id": "fdd392f8",
   "metadata": {},
   "outputs": [],
   "source": [
    "# north_df_copy.groupby('Incoming Wait Time').size()\n",
    "# print('North\\n')\n",
    "\n",
    "# south_df_copy.groupby('Incoming Wait Time').size()\n",
    "\n",
    "# print('South\\n')\n",
    "\n",
    "\n",
    "# df.groupby('Incoming Wait Time').size()\n",
    "# print(\"Total\")\n",
    "\n",
    "\n",
    "\n",
    "\n",
    "\n",
    "# north_df_copy.loc[north_df_copy['Incoming Wait Time'] <= 2, 'Incoming Wait Time'].value_counts(normalize=True).mul(100).round(1).astype(str)+ '%'\n",
    "\n",
    "# south_df_copy.loc[south_df_copy['Incoming Wait Time'] <= 2, 'Incoming Wait Time'].value_counts(normalize=True).mul(100).round(1).astype(str)+ '%'\n",
    "\n",
    "\n",
    "# df.loc[df['Incoming Wait Time'] <= 2, 'Incoming Wait Time'].value_counts(normalize=True).mul(100).round(1).astype(str)+ '%'\n",
    "\n",
    "\n",
    "\n",
    "# north_df_copy['Incoming Wait Time'].value_counts().sort_index(ascending=True) \n",
    "# #Sort index values from lowest to highest. .sort_values(ascending=True) #to sort values from lowest to highest\n",
    "\n",
    "# north_df_copy['Incoming Wait Time'].value_counts(normalize=True) #automatically calculates percent\n",
    "# north_df_copy['Incoming Wait Time'].value_counts(normalize=True).mul(100).round(1).astype(str)+ '%'\n",
    "\n",
    "\n"
   ]
  },
  {
   "cell_type": "markdown",
   "id": "4735bf9e",
   "metadata": {},
   "source": [
    "## For each branch and the entire company, what is the average speed of answer?"
   ]
  },
  {
   "cell_type": "code",
   "execution_count": 70,
   "id": "05125fcb",
   "metadata": {},
   "outputs": [
    {
     "name": "stdout",
     "output_type": "stream",
     "text": [
      "North-Average speed of answer:\n"
     ]
    },
    {
     "data": {
      "text/plain": [
       "mean    3.037037\n",
       "Name: Incoming Wait Time, dtype: float64"
      ]
     },
     "execution_count": 70,
     "metadata": {},
     "output_type": "execute_result"
    },
    {
     "name": "stdout",
     "output_type": "stream",
     "text": [
      "\n",
      "\n",
      "South-Average speed of answer:\n"
     ]
    },
    {
     "data": {
      "text/plain": [
       "mean    3.0\n",
       "Name: Incoming Wait Time, dtype: float64"
      ]
     },
     "execution_count": 70,
     "metadata": {},
     "output_type": "execute_result"
    },
    {
     "name": "stdout",
     "output_type": "stream",
     "text": [
      "\n",
      "\n",
      "Average speed of answer for the entire company:\n"
     ]
    },
    {
     "data": {
      "text/plain": [
       "mean    3.014563\n",
       "Name: Incoming Wait Time, dtype: float64"
      ]
     },
     "execution_count": 70,
     "metadata": {},
     "output_type": "execute_result"
    }
   ],
   "source": [
    "#Average speed of answer= average incoming wait time? \n",
    "#(Incoming Wait Time - amount of time after assigned rep is available to take the call, \n",
    "    #where customer waits for representative to pick up a call. This is tracked in seconds.)\n",
    "    \n",
    "    \n",
    "#north\n",
    "print(\"North-Average speed of answer:\")\n",
    "north_iwto.agg(['mean'])\n",
    "print('\\n')\n",
    "\n",
    "#south\n",
    "\n",
    "print('South-Average speed of answer:')\n",
    "south_iwto.agg(['mean'])\n",
    "print('\\n')\n",
    "\n",
    "#Total\n",
    "print(\"Average speed of answer for the entire company:\")\n",
    "df_iwto.agg(['mean'])\n",
    "\n",
    "\n"
   ]
  },
  {
   "cell_type": "markdown",
   "id": "7719da42",
   "metadata": {},
   "source": [
    "### Data Manipulation Results\n",
    "\n",
    "\n",
    "#### 1. Group by Rep ID and sum the resulting structure. Sort by calls to determine which rep in each branch has the highest number of calls.\n",
    "\n",
    "**Rep ID  Branch**\n",
    "\n",
    "**Brent :  North   -  37**\n",
    "\n",
    "**Eric  :  South  -   35**\n",
    "\n",
    "\n",
    "#### 2. The average call abandonment rate is a KPI when it comes to determining call center efficiency. As you may recall, abandoned calls are calls where the customer hangs up due to long call times. What is the average call abandonment rate for each branch and the whole company? \n",
    "\n",
    "\n",
    "**Do any of these fall out of the optimal range of 2-5%?**  \n",
    "\n",
    "All abandoned calls fall within the optimal 2-5% range\n",
    "\n",
    "North % of abandoned calls\n",
    "2.9 %\n",
    "\n",
    "South % of abandoned calls\n",
    "1.3 %\n",
    "\n",
    "Total % of abandoned calls\n",
    "2.0 %\n",
    "\n",
    "\n",
    "**Average North Call Abandonment Rate:**\n",
    "\n",
    "mean    0.028807\n",
    "\n",
    "Name: Abandoned, dtype: float64\n",
    "\n",
    "\n",
    "**Average South Call Abandonment Rate:**\n",
    "\n",
    "mean    0.012862\n",
    "\n",
    "Name: Abandoned, dtype: float64\n",
    "\n",
    "\n",
    "**Total company wide call abandonment rate:**\n",
    "\n",
    "mean    0.019856\n",
    "\n",
    "Name: Abandoned, dtype: float64\n",
    "\n",
    "\n",
    "#### 3. Service level is another KPI when it comes to measuring call center efficiency. Service level is the percentage of calls answered within a specific number of seconds. In the case of your employer, their ideal time frame is 2 seconds. What is the percentage of calls answered within 2 seconds for each company and the entire company?\n",
    "\n",
    "**North Incoming wait times within 2 secs:**\t\n",
    "\n",
    "True     40.7%\n",
    "\n",
    "\n",
    "**South Incoming wait times within 2 secs:**\t\n",
    "\n",
    "True     38.4%\n",
    "\n",
    "\n",
    "**Total wait times within 2 secs:**\t\n",
    "\n",
    "True     39.3%\n",
    "\n",
    "#### 4. For each branch and the entire company, what is the average speed of answer?\n",
    "\n",
    "**North-Average speed of answer:**\n",
    "\n",
    "mean    3.037037\n",
    "\n",
    "Name: Incoming Wait Time, dtype: float64\n",
    "\n",
    "\n",
    "**South-Average speed of answer:**\n",
    "\n",
    "mean    3.0\n",
    "\n",
    "Name: Incoming Wait Time, dtype: float64\n",
    "\n",
    "\n",
    "**Average speed of answer for the entire company:**\n",
    "\n",
    "mean    3.014563"
   ]
  },
  {
   "cell_type": "markdown",
   "id": "d816d6a2",
   "metadata": {},
   "source": [
    "## Visualization\n",
    "\n",
    "Create a visualization for each of the following questions. Some of the code to handle aggregating and storing data may be written for you. For each visualization, you choose the chart style that you feel suits the situation best. Make note of the chart style you chose and why.\n",
    "\n",
    "1. What is the average abandonment rate per queue?\n",
    "2. What is the service level and average speed of answer per each rep?\n",
    "3. For each type of call purpose, how many calls are outgoing vs. incoming?"
   ]
  },
  {
   "cell_type": "code",
   "execution_count": 71,
   "id": "5ce6b0f1",
   "metadata": {
    "scrolled": false
   },
   "outputs": [],
   "source": [
    "# Create visualization 1 here\n",
    "# The dictionary abandonment_rates has the data you need.\n",
    "\n",
    "abandonment_rates = {}\n",
    "queues = [\"A\", \"B\", \"C\", \"D\"]\n",
    "queue_dict = df.groupby(\"Queue\").agg(\"sum\")\n",
    "for i in range(4):\n",
    "    abandonment_rates[queues[i]] = queue_dict[\"Abandoned\"][i] / queue_dict[\"Calls\"][i] "
   ]
  },
  {
   "cell_type": "code",
   "execution_count": 72,
   "id": "824943f3",
   "metadata": {},
   "outputs": [],
   "source": [
    "# Create visualization 2 here\n",
    "# north_plt contains the data you need for the average speed of answer of each rep\n",
    "\n",
    "#north_plt = north.groupby(\"Rep ID\")[\"Incoming Wait Time\"].mean().to_frame().reset_index()\n",
    "\n",
    "north_plt = north_df_copy.groupby(\"Rep ID\")[\"Incoming Wait Time\"].mean().to_frame().reset_index()\n",
    "\n",
    "# Finding each Rep's Personal Service Level Percentage.  Basically, Calls within 2 secs / total calls\n",
    "\n",
    "# Table 1: Total Incoming calls less than 2 seconds grouped by Rep\n",
    "#quick_calls = north[north[\"Incoming Wait Time\"] <= 2.0]\n",
    "\n",
    "quick_calls = north_df_copy[north_df_copy[\"Incoming Wait Time\"] <= 2.0]\n",
    "quick_reps = quick_calls[[\"Rep ID\", \"Calls\"]]\n",
    "quick_stats = quick_reps.groupby([\"Rep ID\"]).sum()  # Final Table\n",
    "\n",
    "\n",
    "# Table 2: Total Incoming Calls Only grouped by Rep\n",
    "#total_calls_in = north[north[\"Incoming or Outgoing\"] == \"Incoming\"]\n",
    "\n",
    "total_calls_in = north_df_copy[north_df_copy[\"Incoming or Outgoing\"] == \"Incoming\"]\n",
    "rep_calls = total_calls_in[[\"Rep ID\", \"Calls\"]]     \n",
    "total_stats = rep_calls.groupby([\"Rep ID\"]).sum() # Final Table  \n",
    "\n",
    "#  Table 3: Service Level Percentage created via merge\n",
    "service_level = pd.merge(quick_stats, total_stats, on=\"Rep ID\")\n",
    "\n",
    "# Create Percentage Column in Table 3\n",
    "service_level[\"Service Level %\"] = service_level[\"Calls_x\"]/service_level[\"Calls_y\"] * 100"
   ]
  },
  {
   "cell_type": "code",
   "execution_count": 73,
   "id": "d3d77a58",
   "metadata": {},
   "outputs": [
    {
     "ename": "NameError",
     "evalue": "name 'purpose_group' is not defined",
     "output_type": "error",
     "traceback": [
      "\u001b[1;31m---------------------------------------------------------------------------\u001b[0m",
      "\u001b[1;31mNameError\u001b[0m                                 Traceback (most recent call last)",
      "Input \u001b[1;32mIn [73]\u001b[0m, in \u001b[0;36m<cell line: 4>\u001b[1;34m()\u001b[0m\n\u001b[0;32m      1\u001b[0m \u001b[38;5;66;03m# Create visualization 3 here\u001b[39;00m\n\u001b[0;32m      2\u001b[0m \u001b[38;5;66;03m# The three dictionaries, complaints, sales_support, and product_support, have the information you need\u001b[39;00m\n\u001b[1;32m----> 4\u001b[0m purpose_counts \u001b[38;5;241m=\u001b[39m \u001b[43mpurpose_group\u001b[49m[\u001b[38;5;124m\"\u001b[39m\u001b[38;5;124mIncoming or Outgoing\u001b[39m\u001b[38;5;124m\"\u001b[39m]\u001b[38;5;241m.\u001b[39mvalue_counts()\n\u001b[0;32m      5\u001b[0m complaints \u001b[38;5;241m=\u001b[39m purpose_counts[\u001b[38;5;124m\"\u001b[39m\u001b[38;5;124mComplaint\u001b[39m\u001b[38;5;124m\"\u001b[39m]\u001b[38;5;241m.\u001b[39mto_dict()\n\u001b[0;32m      6\u001b[0m sales_support \u001b[38;5;241m=\u001b[39m purpose_counts[\u001b[38;5;124m\"\u001b[39m\u001b[38;5;124mSales Support\u001b[39m\u001b[38;5;124m\"\u001b[39m]\u001b[38;5;241m.\u001b[39mto_dict()\n",
      "\u001b[1;31mNameError\u001b[0m: name 'purpose_group' is not defined"
     ]
    }
   ],
   "source": [
    "# Create visualization 3 here\n",
    "# The three dictionaries, complaints, sales_support, and product_support, have the information you need\n",
    "\n",
    "purpose_counts = purpose_group[\"Incoming or Outgoing\"].value_counts()\n",
    "complaints = purpose_counts[\"Complaint\"].to_dict()\n",
    "sales_support = purpose_counts[\"Sales Support\"].to_dict()\n",
    "product_support = purpose_counts[\"Product Support\"].to_dict()"
   ]
  },
  {
   "cell_type": "markdown",
   "id": "09d471fc",
   "metadata": {},
   "source": [
    "### Visualization Results\n",
    "\n",
    "For each chart you created, explain why you chose the chart style you chose."
   ]
  },
  {
   "cell_type": "markdown",
   "id": "60770519",
   "metadata": {},
   "source": [
    "## Summarize Your Work\n",
    "\n",
    "With what you know now about the two call centers and the entire company, answer the following questions. Note that while this is subjective, you should include relevant data to back up your opinion.\n",
    "\n",
    "1. Using KPIs such as average abandonment rate, service level and average speed of answer, in your opinion, which one of the two branches is operating more efficiently? Why?\n",
    "2. Based on the number of reps in each branch and how quickly the reps are working, in your opinion, which branch would benefit from the extra help?\n",
    "3. Now that you have explored the datasets, is there any data or information that you wish you had in this analysis?"
   ]
  },
  {
   "cell_type": "markdown",
   "id": "76619a15",
   "metadata": {},
   "source": [
    "## Submit Your Work\n",
    "\n",
    "After you have completed your work on the assignment, push your work to your Github repo. Navigate to the repo, copy the link to your assignment and paste the URL in the Canvas assignment's submission box. "
   ]
  },
  {
   "cell_type": "markdown",
   "id": "cc90141d",
   "metadata": {},
   "source": [
    "## Bonus Mission\n",
    "\n",
    "Create a visualization that answers this question:\n",
    "\n",
    "1. For each call purpose, how many calls (incoming and outgoing) take place in each time block?"
   ]
  },
  {
   "cell_type": "code",
   "execution_count": null,
   "id": "e9d48ce7",
   "metadata": {},
   "outputs": [],
   "source": [
    "# Create your visualization here!\n",
    "call_times = df[[\"Time Block\", \"Call Purpose\", \"Incoming or Outgoing\", \"Calls\"]]\n",
    "\n",
    "# Use groupby to plot based on time blocks:\n",
    "\n",
    "# Use groupby and get_group to select which call purpose to plot:\n"
   ]
  },
  {
   "cell_type": "code",
   "execution_count": 75,
   "id": "c715a4de",
   "metadata": {},
   "outputs": [],
   "source": [
    "#pp.ProfileReport(df)"
   ]
  },
  {
   "cell_type": "code",
   "execution_count": null,
   "id": "70b1a756",
   "metadata": {},
   "outputs": [],
   "source": []
  }
 ],
 "metadata": {
  "kernelspec": {
   "display_name": "Python 3 (ipykernel)",
   "language": "python",
   "name": "python3"
  },
  "language_info": {
   "codemirror_mode": {
    "name": "ipython",
    "version": 3
   },
   "file_extension": ".py",
   "mimetype": "text/x-python",
   "name": "python",
   "nbconvert_exporter": "python",
   "pygments_lexer": "ipython3",
   "version": "3.9.12"
  }
 },
 "nbformat": 4,
 "nbformat_minor": 5
}
